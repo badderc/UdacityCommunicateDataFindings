{
 "cells": [
  {
   "cell_type": "markdown",
   "metadata": {},
   "source": [
    "# An Investigation of US Flights from 2008\n",
    "\n",
    "## Table of Contents\n",
    "<ul>\n",
    "<li><a href=\"#intro\">Introduction</a></li>\n",
    "<li><a href=\"#wrangling\">Data Wrangling</a></li>\n",
    "    <ul>\n",
    "        <li><a href=\"#generalprop\">General Properties</a></li>\n",
    "        <li><a href=\"#cleaning\">Cleaning Steps</a></li>\n",
    "    </ul>\n",
    "<li><a href=\"#eda\">Exploratory Data Analysis</a></li>\n",
    "<li><a href=\"#conclusions\">Conclusions</a></li>\n",
    "</ul>"
   ]
  },
  {
   "cell_type": "markdown",
   "metadata": {},
   "source": [
    "<a id='intro'></a>\n",
    "## Introduction\n",
    "\n",
    ">This dataset reports flights in the United States, including\n",
    "carriers, arrival and departure delays, and reasons for delays,\n",
    "for 2008.\n",
    "> Data links:\n",
    "* Statistical Computing | Statistical Graphics: http://stat-computing.org/dataexpo/2009/the-data.html\n",
    "* US Bureau of Transportation Statistics: https://www.transtats.bts.gov/Fields.asp?Table_ID=236\n",
    "\n",
    ">The flight data may provide insight into what time of year to avoid traveling within the US based on delays and cancellations. We can also investigate where, or which airports, offer the best (or worst) flight experiences based on similar issues. Additionally, it may be interesting to understand why flights that are cancelled get cancelled and how long a delay take before becoming a cancellation."
   ]
  },
  {
   "cell_type": "code",
   "execution_count": 2,
   "metadata": {},
   "outputs": [],
   "source": [
    "import pandas as pd\n",
    "import numpy as np\n",
    "import matplotlib.pyplot as plt\n",
    "import seaborn as sb\n",
    "%matplotlib inline\n",
    "\n",
    "import bz2\n",
    "import zipfile"
   ]
  },
  {
   "cell_type": "markdown",
   "metadata": {},
   "source": [
    "<a id='wrangling'></a>\n",
    "## Data Wrangling\n",
    "\n",
    ">In this section of the report, we load in the data, check for cleanliness, and then trim and clean the dataset for analysis."
   ]
  },
  {
   "cell_type": "markdown",
   "metadata": {},
   "source": [
    "<a id='generalprop'></a>\n",
    "### General Properties"
   ]
  },
  {
   "cell_type": "code",
   "execution_count": 3,
   "metadata": {
    "scrolled": true
   },
   "outputs": [
    {
     "data": {
      "text/html": [
       "<div>\n",
       "<style scoped>\n",
       "    .dataframe tbody tr th:only-of-type {\n",
       "        vertical-align: middle;\n",
       "    }\n",
       "\n",
       "    .dataframe tbody tr th {\n",
       "        vertical-align: top;\n",
       "    }\n",
       "\n",
       "    .dataframe thead th {\n",
       "        text-align: right;\n",
       "    }\n",
       "</style>\n",
       "<table border=\"1\" class=\"dataframe\">\n",
       "  <thead>\n",
       "    <tr style=\"text-align: right;\">\n",
       "      <th></th>\n",
       "      <th>Year</th>\n",
       "      <th>Month</th>\n",
       "      <th>DayofMonth</th>\n",
       "      <th>DayOfWeek</th>\n",
       "      <th>DepTime</th>\n",
       "      <th>CRSDepTime</th>\n",
       "      <th>ArrTime</th>\n",
       "      <th>CRSArrTime</th>\n",
       "      <th>UniqueCarrier</th>\n",
       "      <th>FlightNum</th>\n",
       "      <th>...</th>\n",
       "      <th>TaxiIn</th>\n",
       "      <th>TaxiOut</th>\n",
       "      <th>Cancelled</th>\n",
       "      <th>CancellationCode</th>\n",
       "      <th>Diverted</th>\n",
       "      <th>CarrierDelay</th>\n",
       "      <th>WeatherDelay</th>\n",
       "      <th>NASDelay</th>\n",
       "      <th>SecurityDelay</th>\n",
       "      <th>LateAircraftDelay</th>\n",
       "    </tr>\n",
       "  </thead>\n",
       "  <tbody>\n",
       "    <tr>\n",
       "      <th>0</th>\n",
       "      <td>2008</td>\n",
       "      <td>1</td>\n",
       "      <td>3</td>\n",
       "      <td>4</td>\n",
       "      <td>2003.0</td>\n",
       "      <td>1955</td>\n",
       "      <td>2211.0</td>\n",
       "      <td>2225</td>\n",
       "      <td>WN</td>\n",
       "      <td>335</td>\n",
       "      <td>...</td>\n",
       "      <td>4.0</td>\n",
       "      <td>8.0</td>\n",
       "      <td>0</td>\n",
       "      <td>NaN</td>\n",
       "      <td>0</td>\n",
       "      <td>NaN</td>\n",
       "      <td>NaN</td>\n",
       "      <td>NaN</td>\n",
       "      <td>NaN</td>\n",
       "      <td>NaN</td>\n",
       "    </tr>\n",
       "    <tr>\n",
       "      <th>1</th>\n",
       "      <td>2008</td>\n",
       "      <td>1</td>\n",
       "      <td>3</td>\n",
       "      <td>4</td>\n",
       "      <td>754.0</td>\n",
       "      <td>735</td>\n",
       "      <td>1002.0</td>\n",
       "      <td>1000</td>\n",
       "      <td>WN</td>\n",
       "      <td>3231</td>\n",
       "      <td>...</td>\n",
       "      <td>5.0</td>\n",
       "      <td>10.0</td>\n",
       "      <td>0</td>\n",
       "      <td>NaN</td>\n",
       "      <td>0</td>\n",
       "      <td>NaN</td>\n",
       "      <td>NaN</td>\n",
       "      <td>NaN</td>\n",
       "      <td>NaN</td>\n",
       "      <td>NaN</td>\n",
       "    </tr>\n",
       "    <tr>\n",
       "      <th>2</th>\n",
       "      <td>2008</td>\n",
       "      <td>1</td>\n",
       "      <td>3</td>\n",
       "      <td>4</td>\n",
       "      <td>628.0</td>\n",
       "      <td>620</td>\n",
       "      <td>804.0</td>\n",
       "      <td>750</td>\n",
       "      <td>WN</td>\n",
       "      <td>448</td>\n",
       "      <td>...</td>\n",
       "      <td>3.0</td>\n",
       "      <td>17.0</td>\n",
       "      <td>0</td>\n",
       "      <td>NaN</td>\n",
       "      <td>0</td>\n",
       "      <td>NaN</td>\n",
       "      <td>NaN</td>\n",
       "      <td>NaN</td>\n",
       "      <td>NaN</td>\n",
       "      <td>NaN</td>\n",
       "    </tr>\n",
       "    <tr>\n",
       "      <th>3</th>\n",
       "      <td>2008</td>\n",
       "      <td>1</td>\n",
       "      <td>3</td>\n",
       "      <td>4</td>\n",
       "      <td>926.0</td>\n",
       "      <td>930</td>\n",
       "      <td>1054.0</td>\n",
       "      <td>1100</td>\n",
       "      <td>WN</td>\n",
       "      <td>1746</td>\n",
       "      <td>...</td>\n",
       "      <td>3.0</td>\n",
       "      <td>7.0</td>\n",
       "      <td>0</td>\n",
       "      <td>NaN</td>\n",
       "      <td>0</td>\n",
       "      <td>NaN</td>\n",
       "      <td>NaN</td>\n",
       "      <td>NaN</td>\n",
       "      <td>NaN</td>\n",
       "      <td>NaN</td>\n",
       "    </tr>\n",
       "    <tr>\n",
       "      <th>4</th>\n",
       "      <td>2008</td>\n",
       "      <td>1</td>\n",
       "      <td>3</td>\n",
       "      <td>4</td>\n",
       "      <td>1829.0</td>\n",
       "      <td>1755</td>\n",
       "      <td>1959.0</td>\n",
       "      <td>1925</td>\n",
       "      <td>WN</td>\n",
       "      <td>3920</td>\n",
       "      <td>...</td>\n",
       "      <td>3.0</td>\n",
       "      <td>10.0</td>\n",
       "      <td>0</td>\n",
       "      <td>NaN</td>\n",
       "      <td>0</td>\n",
       "      <td>2.0</td>\n",
       "      <td>0.0</td>\n",
       "      <td>0.0</td>\n",
       "      <td>0.0</td>\n",
       "      <td>32.0</td>\n",
       "    </tr>\n",
       "  </tbody>\n",
       "</table>\n",
       "<p>5 rows × 29 columns</p>\n",
       "</div>"
      ],
      "text/plain": [
       "   Year  Month  DayofMonth  DayOfWeek  DepTime  CRSDepTime  ArrTime  \\\n",
       "0  2008      1           3          4   2003.0        1955   2211.0   \n",
       "1  2008      1           3          4    754.0         735   1002.0   \n",
       "2  2008      1           3          4    628.0         620    804.0   \n",
       "3  2008      1           3          4    926.0         930   1054.0   \n",
       "4  2008      1           3          4   1829.0        1755   1959.0   \n",
       "\n",
       "   CRSArrTime UniqueCarrier  FlightNum  ... TaxiIn  TaxiOut  Cancelled  \\\n",
       "0        2225            WN        335  ...    4.0      8.0          0   \n",
       "1        1000            WN       3231  ...    5.0     10.0          0   \n",
       "2         750            WN        448  ...    3.0     17.0          0   \n",
       "3        1100            WN       1746  ...    3.0      7.0          0   \n",
       "4        1925            WN       3920  ...    3.0     10.0          0   \n",
       "\n",
       "   CancellationCode  Diverted  CarrierDelay WeatherDelay NASDelay  \\\n",
       "0               NaN         0           NaN          NaN      NaN   \n",
       "1               NaN         0           NaN          NaN      NaN   \n",
       "2               NaN         0           NaN          NaN      NaN   \n",
       "3               NaN         0           NaN          NaN      NaN   \n",
       "4               NaN         0           2.0          0.0      0.0   \n",
       "\n",
       "   SecurityDelay  LateAircraftDelay  \n",
       "0            NaN                NaN  \n",
       "1            NaN                NaN  \n",
       "2            NaN                NaN  \n",
       "3            NaN                NaN  \n",
       "4            0.0               32.0  \n",
       "\n",
       "[5 rows x 29 columns]"
      ]
     },
     "execution_count": 3,
     "metadata": {},
     "output_type": "execute_result"
    }
   ],
   "source": [
    "df_full = pd.read_csv('./flightdata/2008.csv')\n",
    "df_full.head()"
   ]
  },
  {
   "cell_type": "code",
   "execution_count": 4,
   "metadata": {},
   "outputs": [
    {
     "data": {
      "text/plain": [
       "(7009728, 29)"
      ]
     },
     "execution_count": 4,
     "metadata": {},
     "output_type": "execute_result"
    }
   ],
   "source": [
    "df_full.shape"
   ]
  },
  {
   "cell_type": "markdown",
   "metadata": {},
   "source": [
    ">### There are 7,009,728 flights in the datset. With 29 distinguishing features associated with each flight."
   ]
  },
  {
   "cell_type": "markdown",
   "metadata": {},
   "source": [
    "### Column descriptions:\n",
    "![Column Descriptions](./data_column_info.png \"Image of Column Descriptions from RITA\")\n"
   ]
  },
  {
   "cell_type": "code",
   "execution_count": 5,
   "metadata": {},
   "outputs": [],
   "source": [
    "# Before inital exploration and cleaning begins, make a copy of the original dataframe:\n",
    "df = df_full.copy()"
   ]
  },
  {
   "cell_type": "code",
   "execution_count": 6,
   "metadata": {
    "scrolled": false
   },
   "outputs": [
    {
     "name": "stdout",
     "output_type": "stream",
     "text": [
      "<class 'pandas.core.frame.DataFrame'>\n",
      "RangeIndex: 7009728 entries, 0 to 7009727\n",
      "Data columns (total 29 columns):\n",
      "Year                 int64\n",
      "Month                int64\n",
      "DayofMonth           int64\n",
      "DayOfWeek            int64\n",
      "DepTime              float64\n",
      "CRSDepTime           int64\n",
      "ArrTime              float64\n",
      "CRSArrTime           int64\n",
      "UniqueCarrier        object\n",
      "FlightNum            int64\n",
      "TailNum              object\n",
      "ActualElapsedTime    float64\n",
      "CRSElapsedTime       float64\n",
      "AirTime              float64\n",
      "ArrDelay             float64\n",
      "DepDelay             float64\n",
      "Origin               object\n",
      "Dest                 object\n",
      "Distance             int64\n",
      "TaxiIn               float64\n",
      "TaxiOut              float64\n",
      "Cancelled            int64\n",
      "CancellationCode     object\n",
      "Diverted             int64\n",
      "CarrierDelay         float64\n",
      "WeatherDelay         float64\n",
      "NASDelay             float64\n",
      "SecurityDelay        float64\n",
      "LateAircraftDelay    float64\n",
      "dtypes: float64(14), int64(10), object(5)\n",
      "memory usage: 1.5+ GB\n"
     ]
    }
   ],
   "source": [
    "# Basic column info/ data types\n",
    "df.info()"
   ]
  },
  {
   "cell_type": "code",
   "execution_count": 7,
   "metadata": {},
   "outputs": [
    {
     "name": "stdout",
     "output_type": "stream",
     "text": [
      "Year                   2008\n",
      "Month                     1\n",
      "DayofMonth                3\n",
      "DayOfWeek                 4\n",
      "DepTime                2003\n",
      "CRSDepTime             1955\n",
      "ArrTime                2211\n",
      "CRSArrTime             2225\n",
      "UniqueCarrier            WN\n",
      "FlightNum               335\n",
      "TailNum              N712SW\n",
      "ActualElapsedTime       128\n",
      "CRSElapsedTime          150\n",
      "AirTime                 116\n",
      "ArrDelay                -14\n",
      "DepDelay                  8\n",
      "Origin                  IAD\n",
      "Dest                    TPA\n",
      "Distance                810\n",
      "TaxiIn                    4\n",
      "TaxiOut                   8\n",
      "Cancelled                 0\n",
      "CancellationCode        NaN\n",
      "Diverted                  0\n",
      "CarrierDelay            NaN\n",
      "WeatherDelay            NaN\n",
      "NASDelay                NaN\n",
      "SecurityDelay           NaN\n",
      "LateAircraftDelay       NaN\n",
      "Name: 0, dtype: object\n"
     ]
    }
   ],
   "source": [
    "# Examine first row of data for any weirdness\n",
    "print(df.iloc[0])"
   ]
  },
  {
   "cell_type": "markdown",
   "metadata": {},
   "source": [
    ">### Some fields regarding time are cast as floats instead of ints to identify HHMM times and need to be updated. Some delay fields have nulls instead of zeros. "
   ]
  },
  {
   "cell_type": "code",
   "execution_count": 8,
   "metadata": {},
   "outputs": [
    {
     "data": {
      "text/plain": [
       "Year                       0\n",
       "Month                      0\n",
       "DayofMonth                 0\n",
       "DayOfWeek                  0\n",
       "DepTime               136246\n",
       "CRSDepTime                 0\n",
       "ArrTime               151649\n",
       "CRSArrTime                 0\n",
       "UniqueCarrier              0\n",
       "FlightNum                  0\n",
       "TailNum                83365\n",
       "ActualElapsedTime     154699\n",
       "CRSElapsedTime           844\n",
       "AirTime               154699\n",
       "ArrDelay              154699\n",
       "DepDelay              136246\n",
       "Origin                     0\n",
       "Dest                       0\n",
       "Distance                   0\n",
       "TaxiIn                151649\n",
       "TaxiOut               137058\n",
       "Cancelled                  0\n",
       "CancellationCode     6872294\n",
       "Diverted                   0\n",
       "CarrierDelay         5484993\n",
       "WeatherDelay         5484993\n",
       "NASDelay             5484993\n",
       "SecurityDelay        5484993\n",
       "LateAircraftDelay    5484993\n",
       "dtype: int64"
      ]
     },
     "execution_count": 8,
     "metadata": {},
     "output_type": "execute_result"
    }
   ],
   "source": [
    "# Number of Nulls per Column\n",
    "df.isna().sum()"
   ]
  },
  {
   "cell_type": "markdown",
   "metadata": {},
   "source": [
    ">### There are many fields with missing values; some will be replaced with zeros, but some (like DepTime and ArrTime) need to be investigated to understand if they are cancellations or errors."
   ]
  },
  {
   "cell_type": "code",
   "execution_count": 9,
   "metadata": {},
   "outputs": [
    {
     "data": {
      "text/html": [
       "<div>\n",
       "<style scoped>\n",
       "    .dataframe tbody tr th:only-of-type {\n",
       "        vertical-align: middle;\n",
       "    }\n",
       "\n",
       "    .dataframe tbody tr th {\n",
       "        vertical-align: top;\n",
       "    }\n",
       "\n",
       "    .dataframe thead th {\n",
       "        text-align: right;\n",
       "    }\n",
       "</style>\n",
       "<table border=\"1\" class=\"dataframe\">\n",
       "  <thead>\n",
       "    <tr style=\"text-align: right;\">\n",
       "      <th></th>\n",
       "      <th>count</th>\n",
       "      <th>mean</th>\n",
       "      <th>std</th>\n",
       "      <th>min</th>\n",
       "      <th>25%</th>\n",
       "      <th>50%</th>\n",
       "      <th>75%</th>\n",
       "      <th>max</th>\n",
       "    </tr>\n",
       "  </thead>\n",
       "  <tbody>\n",
       "    <tr>\n",
       "      <th>Year</th>\n",
       "      <td>7009728.0</td>\n",
       "      <td>2008.000000</td>\n",
       "      <td>0.000000</td>\n",
       "      <td>2008.0</td>\n",
       "      <td>2008.0</td>\n",
       "      <td>2008.0</td>\n",
       "      <td>2008.0</td>\n",
       "      <td>2008.0</td>\n",
       "    </tr>\n",
       "    <tr>\n",
       "      <th>Month</th>\n",
       "      <td>7009728.0</td>\n",
       "      <td>6.375130</td>\n",
       "      <td>3.406737</td>\n",
       "      <td>1.0</td>\n",
       "      <td>3.0</td>\n",
       "      <td>6.0</td>\n",
       "      <td>9.0</td>\n",
       "      <td>12.0</td>\n",
       "    </tr>\n",
       "    <tr>\n",
       "      <th>DayofMonth</th>\n",
       "      <td>7009728.0</td>\n",
       "      <td>15.728015</td>\n",
       "      <td>8.797068</td>\n",
       "      <td>1.0</td>\n",
       "      <td>8.0</td>\n",
       "      <td>16.0</td>\n",
       "      <td>23.0</td>\n",
       "      <td>31.0</td>\n",
       "    </tr>\n",
       "    <tr>\n",
       "      <th>DayOfWeek</th>\n",
       "      <td>7009728.0</td>\n",
       "      <td>3.924182</td>\n",
       "      <td>1.988259</td>\n",
       "      <td>1.0</td>\n",
       "      <td>2.0</td>\n",
       "      <td>4.0</td>\n",
       "      <td>6.0</td>\n",
       "      <td>7.0</td>\n",
       "    </tr>\n",
       "    <tr>\n",
       "      <th>DepTime</th>\n",
       "      <td>6873482.0</td>\n",
       "      <td>1333.830046</td>\n",
       "      <td>478.068895</td>\n",
       "      <td>1.0</td>\n",
       "      <td>928.0</td>\n",
       "      <td>1325.0</td>\n",
       "      <td>1728.0</td>\n",
       "      <td>2400.0</td>\n",
       "    </tr>\n",
       "    <tr>\n",
       "      <th>CRSDepTime</th>\n",
       "      <td>7009728.0</td>\n",
       "      <td>1326.085663</td>\n",
       "      <td>464.250911</td>\n",
       "      <td>0.0</td>\n",
       "      <td>925.0</td>\n",
       "      <td>1320.0</td>\n",
       "      <td>1715.0</td>\n",
       "      <td>2359.0</td>\n",
       "    </tr>\n",
       "    <tr>\n",
       "      <th>ArrTime</th>\n",
       "      <td>6858079.0</td>\n",
       "      <td>1481.258227</td>\n",
       "      <td>505.225129</td>\n",
       "      <td>1.0</td>\n",
       "      <td>1107.0</td>\n",
       "      <td>1512.0</td>\n",
       "      <td>1909.0</td>\n",
       "      <td>2400.0</td>\n",
       "    </tr>\n",
       "    <tr>\n",
       "      <th>CRSArrTime</th>\n",
       "      <td>7009728.0</td>\n",
       "      <td>1494.801154</td>\n",
       "      <td>482.672822</td>\n",
       "      <td>0.0</td>\n",
       "      <td>1115.0</td>\n",
       "      <td>1517.0</td>\n",
       "      <td>1907.0</td>\n",
       "      <td>2400.0</td>\n",
       "    </tr>\n",
       "    <tr>\n",
       "      <th>FlightNum</th>\n",
       "      <td>7009728.0</td>\n",
       "      <td>2224.200105</td>\n",
       "      <td>1961.715999</td>\n",
       "      <td>1.0</td>\n",
       "      <td>622.0</td>\n",
       "      <td>1571.0</td>\n",
       "      <td>3518.0</td>\n",
       "      <td>9743.0</td>\n",
       "    </tr>\n",
       "    <tr>\n",
       "      <th>ActualElapsedTime</th>\n",
       "      <td>6855029.0</td>\n",
       "      <td>127.322424</td>\n",
       "      <td>70.187308</td>\n",
       "      <td>12.0</td>\n",
       "      <td>77.0</td>\n",
       "      <td>110.0</td>\n",
       "      <td>157.0</td>\n",
       "      <td>1379.0</td>\n",
       "    </tr>\n",
       "    <tr>\n",
       "      <th>CRSElapsedTime</th>\n",
       "      <td>7008884.0</td>\n",
       "      <td>128.866794</td>\n",
       "      <td>69.409736</td>\n",
       "      <td>-141.0</td>\n",
       "      <td>80.0</td>\n",
       "      <td>110.0</td>\n",
       "      <td>159.0</td>\n",
       "      <td>1435.0</td>\n",
       "    </tr>\n",
       "    <tr>\n",
       "      <th>AirTime</th>\n",
       "      <td>6855029.0</td>\n",
       "      <td>104.018589</td>\n",
       "      <td>67.439796</td>\n",
       "      <td>0.0</td>\n",
       "      <td>55.0</td>\n",
       "      <td>86.0</td>\n",
       "      <td>132.0</td>\n",
       "      <td>1350.0</td>\n",
       "    </tr>\n",
       "    <tr>\n",
       "      <th>ArrDelay</th>\n",
       "      <td>6855029.0</td>\n",
       "      <td>8.168452</td>\n",
       "      <td>38.501937</td>\n",
       "      <td>-519.0</td>\n",
       "      <td>-10.0</td>\n",
       "      <td>-2.0</td>\n",
       "      <td>12.0</td>\n",
       "      <td>2461.0</td>\n",
       "    </tr>\n",
       "    <tr>\n",
       "      <th>DepDelay</th>\n",
       "      <td>6873482.0</td>\n",
       "      <td>9.972570</td>\n",
       "      <td>35.311271</td>\n",
       "      <td>-534.0</td>\n",
       "      <td>-4.0</td>\n",
       "      <td>-1.0</td>\n",
       "      <td>8.0</td>\n",
       "      <td>2467.0</td>\n",
       "    </tr>\n",
       "    <tr>\n",
       "      <th>Distance</th>\n",
       "      <td>7009728.0</td>\n",
       "      <td>726.387029</td>\n",
       "      <td>562.101803</td>\n",
       "      <td>11.0</td>\n",
       "      <td>325.0</td>\n",
       "      <td>581.0</td>\n",
       "      <td>954.0</td>\n",
       "      <td>4962.0</td>\n",
       "    </tr>\n",
       "    <tr>\n",
       "      <th>TaxiIn</th>\n",
       "      <td>6858079.0</td>\n",
       "      <td>6.860852</td>\n",
       "      <td>4.933649</td>\n",
       "      <td>0.0</td>\n",
       "      <td>4.0</td>\n",
       "      <td>6.0</td>\n",
       "      <td>8.0</td>\n",
       "      <td>308.0</td>\n",
       "    </tr>\n",
       "    <tr>\n",
       "      <th>TaxiOut</th>\n",
       "      <td>6872670.0</td>\n",
       "      <td>16.453045</td>\n",
       "      <td>11.332799</td>\n",
       "      <td>0.0</td>\n",
       "      <td>10.0</td>\n",
       "      <td>14.0</td>\n",
       "      <td>19.0</td>\n",
       "      <td>429.0</td>\n",
       "    </tr>\n",
       "    <tr>\n",
       "      <th>Cancelled</th>\n",
       "      <td>7009728.0</td>\n",
       "      <td>0.019606</td>\n",
       "      <td>0.138643</td>\n",
       "      <td>0.0</td>\n",
       "      <td>0.0</td>\n",
       "      <td>0.0</td>\n",
       "      <td>0.0</td>\n",
       "      <td>1.0</td>\n",
       "    </tr>\n",
       "    <tr>\n",
       "      <th>Diverted</th>\n",
       "      <td>7009728.0</td>\n",
       "      <td>0.002463</td>\n",
       "      <td>0.049568</td>\n",
       "      <td>0.0</td>\n",
       "      <td>0.0</td>\n",
       "      <td>0.0</td>\n",
       "      <td>0.0</td>\n",
       "      <td>1.0</td>\n",
       "    </tr>\n",
       "    <tr>\n",
       "      <th>CarrierDelay</th>\n",
       "      <td>1524735.0</td>\n",
       "      <td>15.772063</td>\n",
       "      <td>40.099116</td>\n",
       "      <td>0.0</td>\n",
       "      <td>0.0</td>\n",
       "      <td>0.0</td>\n",
       "      <td>16.0</td>\n",
       "      <td>2436.0</td>\n",
       "    </tr>\n",
       "    <tr>\n",
       "      <th>WeatherDelay</th>\n",
       "      <td>1524735.0</td>\n",
       "      <td>3.039031</td>\n",
       "      <td>19.502874</td>\n",
       "      <td>0.0</td>\n",
       "      <td>0.0</td>\n",
       "      <td>0.0</td>\n",
       "      <td>0.0</td>\n",
       "      <td>1352.0</td>\n",
       "    </tr>\n",
       "    <tr>\n",
       "      <th>NASDelay</th>\n",
       "      <td>1524735.0</td>\n",
       "      <td>17.164623</td>\n",
       "      <td>31.894955</td>\n",
       "      <td>0.0</td>\n",
       "      <td>0.0</td>\n",
       "      <td>6.0</td>\n",
       "      <td>21.0</td>\n",
       "      <td>1357.0</td>\n",
       "    </tr>\n",
       "    <tr>\n",
       "      <th>SecurityDelay</th>\n",
       "      <td>1524735.0</td>\n",
       "      <td>0.074974</td>\n",
       "      <td>1.837940</td>\n",
       "      <td>0.0</td>\n",
       "      <td>0.0</td>\n",
       "      <td>0.0</td>\n",
       "      <td>0.0</td>\n",
       "      <td>392.0</td>\n",
       "    </tr>\n",
       "    <tr>\n",
       "      <th>LateAircraftDelay</th>\n",
       "      <td>1524735.0</td>\n",
       "      <td>20.770981</td>\n",
       "      <td>39.259636</td>\n",
       "      <td>0.0</td>\n",
       "      <td>0.0</td>\n",
       "      <td>0.0</td>\n",
       "      <td>26.0</td>\n",
       "      <td>1316.0</td>\n",
       "    </tr>\n",
       "  </tbody>\n",
       "</table>\n",
       "</div>"
      ],
      "text/plain": [
       "                       count         mean          std     min     25%  \\\n",
       "Year               7009728.0  2008.000000     0.000000  2008.0  2008.0   \n",
       "Month              7009728.0     6.375130     3.406737     1.0     3.0   \n",
       "DayofMonth         7009728.0    15.728015     8.797068     1.0     8.0   \n",
       "DayOfWeek          7009728.0     3.924182     1.988259     1.0     2.0   \n",
       "DepTime            6873482.0  1333.830046   478.068895     1.0   928.0   \n",
       "CRSDepTime         7009728.0  1326.085663   464.250911     0.0   925.0   \n",
       "ArrTime            6858079.0  1481.258227   505.225129     1.0  1107.0   \n",
       "CRSArrTime         7009728.0  1494.801154   482.672822     0.0  1115.0   \n",
       "FlightNum          7009728.0  2224.200105  1961.715999     1.0   622.0   \n",
       "ActualElapsedTime  6855029.0   127.322424    70.187308    12.0    77.0   \n",
       "CRSElapsedTime     7008884.0   128.866794    69.409736  -141.0    80.0   \n",
       "AirTime            6855029.0   104.018589    67.439796     0.0    55.0   \n",
       "ArrDelay           6855029.0     8.168452    38.501937  -519.0   -10.0   \n",
       "DepDelay           6873482.0     9.972570    35.311271  -534.0    -4.0   \n",
       "Distance           7009728.0   726.387029   562.101803    11.0   325.0   \n",
       "TaxiIn             6858079.0     6.860852     4.933649     0.0     4.0   \n",
       "TaxiOut            6872670.0    16.453045    11.332799     0.0    10.0   \n",
       "Cancelled          7009728.0     0.019606     0.138643     0.0     0.0   \n",
       "Diverted           7009728.0     0.002463     0.049568     0.0     0.0   \n",
       "CarrierDelay       1524735.0    15.772063    40.099116     0.0     0.0   \n",
       "WeatherDelay       1524735.0     3.039031    19.502874     0.0     0.0   \n",
       "NASDelay           1524735.0    17.164623    31.894955     0.0     0.0   \n",
       "SecurityDelay      1524735.0     0.074974     1.837940     0.0     0.0   \n",
       "LateAircraftDelay  1524735.0    20.770981    39.259636     0.0     0.0   \n",
       "\n",
       "                      50%     75%     max  \n",
       "Year               2008.0  2008.0  2008.0  \n",
       "Month                 6.0     9.0    12.0  \n",
       "DayofMonth           16.0    23.0    31.0  \n",
       "DayOfWeek             4.0     6.0     7.0  \n",
       "DepTime            1325.0  1728.0  2400.0  \n",
       "CRSDepTime         1320.0  1715.0  2359.0  \n",
       "ArrTime            1512.0  1909.0  2400.0  \n",
       "CRSArrTime         1517.0  1907.0  2400.0  \n",
       "FlightNum          1571.0  3518.0  9743.0  \n",
       "ActualElapsedTime   110.0   157.0  1379.0  \n",
       "CRSElapsedTime      110.0   159.0  1435.0  \n",
       "AirTime              86.0   132.0  1350.0  \n",
       "ArrDelay             -2.0    12.0  2461.0  \n",
       "DepDelay             -1.0     8.0  2467.0  \n",
       "Distance            581.0   954.0  4962.0  \n",
       "TaxiIn                6.0     8.0   308.0  \n",
       "TaxiOut              14.0    19.0   429.0  \n",
       "Cancelled             0.0     0.0     1.0  \n",
       "Diverted              0.0     0.0     1.0  \n",
       "CarrierDelay          0.0    16.0  2436.0  \n",
       "WeatherDelay          0.0     0.0  1352.0  \n",
       "NASDelay              6.0    21.0  1357.0  \n",
       "SecurityDelay         0.0     0.0   392.0  \n",
       "LateAircraftDelay     0.0    26.0  1316.0  "
      ]
     },
     "execution_count": 9,
     "metadata": {},
     "output_type": "execute_result"
    }
   ],
   "source": [
    "# summary statistics of numeric columns\n",
    "df.describe().transpose()"
   ]
  },
  {
   "cell_type": "markdown",
   "metadata": {},
   "source": [
    ">### There are some outliers in the data that need to be investigated: how can elapsed time be negative? how can elapsed time be as short as 12 minutes? what flight is only 11 miles long?"
   ]
  },
  {
   "cell_type": "code",
   "execution_count": 29,
   "metadata": {
    "scrolled": true
   },
   "outputs": [
    {
     "name": "stdout",
     "output_type": "stream",
     "text": [
      "303\n"
     ]
    },
    {
     "data": {
      "text/plain": [
       "ATL    413531\n",
       "ORD    349579\n",
       "DFW    280646\n",
       "DEN    240916\n",
       "LAX    215132\n",
       "PHX    198966\n",
       "IAH    184664\n",
       "LAS    172537\n",
       "DTW    161587\n",
       "SFO    140245\n",
       "Name: Origin, dtype: int64"
      ]
     },
     "execution_count": 29,
     "metadata": {},
     "output_type": "execute_result"
    }
   ],
   "source": [
    "# Origin Airports\n",
    "print(len(df.Origin.value_counts()))\n",
    "df.Origin.value_counts()[0:10]"
   ]
  },
  {
   "cell_type": "code",
   "execution_count": 30,
   "metadata": {
    "scrolled": true
   },
   "outputs": [
    {
     "name": "stdout",
     "output_type": "stream",
     "text": [
      "302\n"
     ]
    },
    {
     "data": {
      "text/plain": [
       "ATL    413449\n",
       "ORD    349425\n",
       "DFW    280151\n",
       "DEN    241086\n",
       "LAX    215448\n",
       "PHX    199083\n",
       "IAH    184391\n",
       "LAS    172471\n",
       "DTW    161794\n",
       "SFO    140336\n",
       "Name: Dest, dtype: int64"
      ]
     },
     "execution_count": 30,
     "metadata": {},
     "output_type": "execute_result"
    }
   ],
   "source": [
    "# Destination Airports\n",
    "print(len(df.Dest.value_counts()))\n",
    "df.Dest.value_counts()[0:10]"
   ]
  },
  {
   "cell_type": "code",
   "execution_count": 28,
   "metadata": {
    "scrolled": true
   },
   "outputs": [
    {
     "data": {
      "text/plain": [
       "WN    1199300\n",
       "AA     602925\n",
       "OO     565848\n",
       "MQ     489492\n",
       "US     452668\n",
       "DL     450747\n",
       "UA     448520\n",
       "XE     373406\n",
       "NW     347016\n",
       "CO     297557\n",
       "EV     279893\n",
       "9E     261422\n",
       "FL     260949\n",
       "YV     254350\n",
       "OH     197157\n",
       "B6     195319\n",
       "AS     150631\n",
       "F9      95687\n",
       "HA      61782\n",
       "AQ       7794\n",
       "Name: UniqueCarrier, dtype: int64"
      ]
     },
     "execution_count": 28,
     "metadata": {},
     "output_type": "execute_result"
    }
   ],
   "source": [
    "# Unique Carrier Counts\n",
    "df.UniqueCarrier.value_counts()"
   ]
  },
  {
   "cell_type": "markdown",
   "metadata": {},
   "source": [
    "## Assessment for Cleaning Steps:\n",
    "* DepTime, CRSDepTime, ArrTime, and CRSArrTime are floats/ints, but need to represent local, hhmm\n",
    "* If no cancellation, CancellationCode should be E instead of NAN\n",
    "* CarrierDelay, WeatherDelay, NASDelay, SecurityDelay, LateAircraftDelay should have 0 instead of NAN\n",
    "* Need to understand how DepTime, ArrTime, and AirTime, ActualElapsedTime and CRSElapsedTime can be null - were those flights cancelled?"
   ]
  },
  {
   "cell_type": "markdown",
   "metadata": {},
   "source": [
    "<a id='cleaning'></a>\n",
    "## Data Cleaning Steps:"
   ]
  },
  {
   "cell_type": "markdown",
   "metadata": {},
   "source": [
    "### Replace NaNs in CancellationCode with the letter 'E'"
   ]
  },
  {
   "cell_type": "code",
   "execution_count": 10,
   "metadata": {},
   "outputs": [
    {
     "data": {
      "text/plain": [
       "array([nan], dtype=object)"
      ]
     },
     "execution_count": 10,
     "metadata": {},
     "output_type": "execute_result"
    }
   ],
   "source": [
    "# Confirm that when a flight is NOT cancelled, the cancellation code is NaN\n",
    "df[df.Cancelled==0].CancellationCode.unique()"
   ]
  },
  {
   "cell_type": "code",
   "execution_count": 11,
   "metadata": {},
   "outputs": [
    {
     "data": {
      "text/plain": [
       "NaN    6872294\n",
       "B        54904\n",
       "A        54330\n",
       "C        28188\n",
       "D           12\n",
       "Name: CancellationCode, dtype: int64"
      ]
     },
     "execution_count": 11,
     "metadata": {},
     "output_type": "execute_result"
    }
   ],
   "source": [
    "df.CancellationCode.value_counts(dropna=False)"
   ]
  },
  {
   "cell_type": "code",
   "execution_count": 12,
   "metadata": {
    "scrolled": true
   },
   "outputs": [],
   "source": [
    "# Fill CancellationCode NaN's with 'E' to match the rest of the codes\n",
    "values = {'CancellationCode': 'E'}\n",
    "df.fillna(value=values, inplace=True)"
   ]
  },
  {
   "cell_type": "code",
   "execution_count": 13,
   "metadata": {},
   "outputs": [
    {
     "data": {
      "text/plain": [
       "E    6872294\n",
       "B      54904\n",
       "A      54330\n",
       "C      28188\n",
       "D         12\n",
       "Name: CancellationCode, dtype: int64"
      ]
     },
     "execution_count": 13,
     "metadata": {},
     "output_type": "execute_result"
    }
   ],
   "source": [
    "# Check that all nulls are gone\n",
    "df.CancellationCode.value_counts(dropna=False)"
   ]
  },
  {
   "cell_type": "markdown",
   "metadata": {},
   "source": [
    "### Recast DepTime, CRSDepTime, ArrTime, and CRSArrTime as timestamps"
   ]
  },
  {
   "cell_type": "code",
   "execution_count": 14,
   "metadata": {},
   "outputs": [],
   "source": [
    "time_col = ['DepTime', 'CRSDepTime', 'ArrTime', 'CRSArrTime']\n",
    "# fill nulls with 9999 to distinguish from actual times\n",
    "values = {'DepTime': 9999, 'CRSDepTime': 9999, 'ArrTime': 9999, 'CRSArrTime': 9999}\n",
    "df.fillna(value=values, inplace=True)"
   ]
  },
  {
   "cell_type": "code",
   "execution_count": 15,
   "metadata": {},
   "outputs": [],
   "source": [
    "# convert values to strings\n",
    "df[time_col] = df[time_col].astype(int).astype(str)"
   ]
  },
  {
   "cell_type": "code",
   "execution_count": 16,
   "metadata": {},
   "outputs": [],
   "source": [
    "# front-pad strings with 0's so all strings have 4 digits for hh mm\n",
    "def padzero(s):\n",
    "    timel = len(s)\n",
    "    if timel < 4:\n",
    "        add0 = 4 - timel\n",
    "        return add0*'0'+s\n",
    "    else:\n",
    "        return s\n",
    "    \n",
    "for col in time_col:\n",
    "    df[col] = df[col].apply(lambda x: padzero(x))"
   ]
  },
  {
   "cell_type": "code",
   "execution_count": 17,
   "metadata": {
    "scrolled": true
   },
   "outputs": [],
   "source": [
    "# convert to datetime with format '%H%M'.time()\n",
    "for col in time_col:\n",
    "    df[col] = pd.to_datetime(df[col], format='%H%M', errors='coerce').dt.time"
   ]
  },
  {
   "cell_type": "code",
   "execution_count": 18,
   "metadata": {
    "scrolled": true
   },
   "outputs": [
    {
     "data": {
      "text/html": [
       "<div>\n",
       "<style scoped>\n",
       "    .dataframe tbody tr th:only-of-type {\n",
       "        vertical-align: middle;\n",
       "    }\n",
       "\n",
       "    .dataframe tbody tr th {\n",
       "        vertical-align: top;\n",
       "    }\n",
       "\n",
       "    .dataframe thead th {\n",
       "        text-align: right;\n",
       "    }\n",
       "</style>\n",
       "<table border=\"1\" class=\"dataframe\">\n",
       "  <thead>\n",
       "    <tr style=\"text-align: right;\">\n",
       "      <th></th>\n",
       "      <th>DepTime</th>\n",
       "      <th>CRSDepTime</th>\n",
       "      <th>ArrTime</th>\n",
       "      <th>CRSArrTime</th>\n",
       "    </tr>\n",
       "  </thead>\n",
       "  <tbody>\n",
       "    <tr>\n",
       "      <th>0</th>\n",
       "      <td>20:03:00</td>\n",
       "      <td>19:55:00</td>\n",
       "      <td>22:11:00</td>\n",
       "      <td>22:25:00</td>\n",
       "    </tr>\n",
       "    <tr>\n",
       "      <th>1</th>\n",
       "      <td>07:54:00</td>\n",
       "      <td>07:35:00</td>\n",
       "      <td>10:02:00</td>\n",
       "      <td>10:00:00</td>\n",
       "    </tr>\n",
       "    <tr>\n",
       "      <th>2</th>\n",
       "      <td>06:28:00</td>\n",
       "      <td>06:20:00</td>\n",
       "      <td>08:04:00</td>\n",
       "      <td>07:50:00</td>\n",
       "    </tr>\n",
       "    <tr>\n",
       "      <th>3</th>\n",
       "      <td>09:26:00</td>\n",
       "      <td>09:30:00</td>\n",
       "      <td>10:54:00</td>\n",
       "      <td>11:00:00</td>\n",
       "    </tr>\n",
       "    <tr>\n",
       "      <th>4</th>\n",
       "      <td>18:29:00</td>\n",
       "      <td>17:55:00</td>\n",
       "      <td>19:59:00</td>\n",
       "      <td>19:25:00</td>\n",
       "    </tr>\n",
       "    <tr>\n",
       "      <th>5</th>\n",
       "      <td>19:40:00</td>\n",
       "      <td>19:15:00</td>\n",
       "      <td>21:21:00</td>\n",
       "      <td>21:10:00</td>\n",
       "    </tr>\n",
       "    <tr>\n",
       "      <th>6</th>\n",
       "      <td>19:37:00</td>\n",
       "      <td>18:30:00</td>\n",
       "      <td>20:37:00</td>\n",
       "      <td>19:40:00</td>\n",
       "    </tr>\n",
       "    <tr>\n",
       "      <th>7</th>\n",
       "      <td>10:39:00</td>\n",
       "      <td>10:40:00</td>\n",
       "      <td>11:32:00</td>\n",
       "      <td>11:50:00</td>\n",
       "    </tr>\n",
       "    <tr>\n",
       "      <th>8</th>\n",
       "      <td>06:17:00</td>\n",
       "      <td>06:15:00</td>\n",
       "      <td>06:52:00</td>\n",
       "      <td>06:50:00</td>\n",
       "    </tr>\n",
       "    <tr>\n",
       "      <th>9</th>\n",
       "      <td>16:20:00</td>\n",
       "      <td>16:20:00</td>\n",
       "      <td>16:39:00</td>\n",
       "      <td>16:55:00</td>\n",
       "    </tr>\n",
       "    <tr>\n",
       "      <th>10</th>\n",
       "      <td>07:06:00</td>\n",
       "      <td>07:00:00</td>\n",
       "      <td>09:16:00</td>\n",
       "      <td>09:15:00</td>\n",
       "    </tr>\n",
       "    <tr>\n",
       "      <th>11</th>\n",
       "      <td>16:44:00</td>\n",
       "      <td>15:10:00</td>\n",
       "      <td>18:45:00</td>\n",
       "      <td>17:25:00</td>\n",
       "    </tr>\n",
       "    <tr>\n",
       "      <th>12</th>\n",
       "      <td>14:26:00</td>\n",
       "      <td>14:30:00</td>\n",
       "      <td>14:26:00</td>\n",
       "      <td>14:25:00</td>\n",
       "    </tr>\n",
       "    <tr>\n",
       "      <th>13</th>\n",
       "      <td>07:15:00</td>\n",
       "      <td>07:15:00</td>\n",
       "      <td>07:20:00</td>\n",
       "      <td>07:10:00</td>\n",
       "    </tr>\n",
       "    <tr>\n",
       "      <th>14</th>\n",
       "      <td>17:02:00</td>\n",
       "      <td>17:00:00</td>\n",
       "      <td>16:51:00</td>\n",
       "      <td>16:55:00</td>\n",
       "    </tr>\n",
       "    <tr>\n",
       "      <th>15</th>\n",
       "      <td>10:29:00</td>\n",
       "      <td>10:20:00</td>\n",
       "      <td>10:21:00</td>\n",
       "      <td>10:10:00</td>\n",
       "    </tr>\n",
       "    <tr>\n",
       "      <th>16</th>\n",
       "      <td>14:52:00</td>\n",
       "      <td>14:25:00</td>\n",
       "      <td>16:40:00</td>\n",
       "      <td>16:25:00</td>\n",
       "    </tr>\n",
       "    <tr>\n",
       "      <th>17</th>\n",
       "      <td>07:54:00</td>\n",
       "      <td>07:45:00</td>\n",
       "      <td>09:40:00</td>\n",
       "      <td>09:55:00</td>\n",
       "    </tr>\n",
       "    <tr>\n",
       "      <th>18</th>\n",
       "      <td>13:23:00</td>\n",
       "      <td>12:55:00</td>\n",
       "      <td>15:26:00</td>\n",
       "      <td>15:10:00</td>\n",
       "    </tr>\n",
       "    <tr>\n",
       "      <th>19</th>\n",
       "      <td>14:16:00</td>\n",
       "      <td>13:25:00</td>\n",
       "      <td>15:12:00</td>\n",
       "      <td>14:35:00</td>\n",
       "    </tr>\n",
       "    <tr>\n",
       "      <th>20</th>\n",
       "      <td>07:06:00</td>\n",
       "      <td>07:05:00</td>\n",
       "      <td>08:07:00</td>\n",
       "      <td>08:10:00</td>\n",
       "    </tr>\n",
       "    <tr>\n",
       "      <th>21</th>\n",
       "      <td>16:57:00</td>\n",
       "      <td>16:25:00</td>\n",
       "      <td>17:54:00</td>\n",
       "      <td>17:35:00</td>\n",
       "    </tr>\n",
       "    <tr>\n",
       "      <th>22</th>\n",
       "      <td>19:00:00</td>\n",
       "      <td>18:40:00</td>\n",
       "      <td>19:56:00</td>\n",
       "      <td>19:50:00</td>\n",
       "    </tr>\n",
       "    <tr>\n",
       "      <th>23</th>\n",
       "      <td>10:39:00</td>\n",
       "      <td>10:30:00</td>\n",
       "      <td>11:33:00</td>\n",
       "      <td>11:40:00</td>\n",
       "    </tr>\n",
       "    <tr>\n",
       "      <th>24</th>\n",
       "      <td>08:01:00</td>\n",
       "      <td>08:00:00</td>\n",
       "      <td>09:02:00</td>\n",
       "      <td>09:10:00</td>\n",
       "    </tr>\n",
       "    <tr>\n",
       "      <th>25</th>\n",
       "      <td>15:20:00</td>\n",
       "      <td>14:55:00</td>\n",
       "      <td>16:19:00</td>\n",
       "      <td>16:05:00</td>\n",
       "    </tr>\n",
       "    <tr>\n",
       "      <th>26</th>\n",
       "      <td>14:22:00</td>\n",
       "      <td>12:55:00</td>\n",
       "      <td>16:57:00</td>\n",
       "      <td>16:10:00</td>\n",
       "    </tr>\n",
       "    <tr>\n",
       "      <th>27</th>\n",
       "      <td>19:54:00</td>\n",
       "      <td>19:25:00</td>\n",
       "      <td>22:39:00</td>\n",
       "      <td>22:35:00</td>\n",
       "    </tr>\n",
       "    <tr>\n",
       "      <th>28</th>\n",
       "      <td>06:36:00</td>\n",
       "      <td>06:35:00</td>\n",
       "      <td>09:21:00</td>\n",
       "      <td>09:45:00</td>\n",
       "    </tr>\n",
       "    <tr>\n",
       "      <th>29</th>\n",
       "      <td>07:34:00</td>\n",
       "      <td>07:30:00</td>\n",
       "      <td>09:58:00</td>\n",
       "      <td>10:20:00</td>\n",
       "    </tr>\n",
       "    <tr>\n",
       "      <th>...</th>\n",
       "      <td>...</td>\n",
       "      <td>...</td>\n",
       "      <td>...</td>\n",
       "      <td>...</td>\n",
       "    </tr>\n",
       "    <tr>\n",
       "      <th>7009698</th>\n",
       "      <td>16:25:00</td>\n",
       "      <td>16:35:00</td>\n",
       "      <td>17:44:00</td>\n",
       "      <td>17:58:00</td>\n",
       "    </tr>\n",
       "    <tr>\n",
       "      <th>7009699</th>\n",
       "      <td>12:54:00</td>\n",
       "      <td>12:21:00</td>\n",
       "      <td>14:20:00</td>\n",
       "      <td>13:59:00</td>\n",
       "    </tr>\n",
       "    <tr>\n",
       "      <th>7009700</th>\n",
       "      <td>18:42:00</td>\n",
       "      <td>18:45:00</td>\n",
       "      <td>19:53:00</td>\n",
       "      <td>20:06:00</td>\n",
       "    </tr>\n",
       "    <tr>\n",
       "      <th>7009701</th>\n",
       "      <td>15:28:00</td>\n",
       "      <td>15:00:00</td>\n",
       "      <td>17:20:00</td>\n",
       "      <td>16:42:00</td>\n",
       "    </tr>\n",
       "    <tr>\n",
       "      <th>7009702</th>\n",
       "      <td>15:31:00</td>\n",
       "      <td>15:22:00</td>\n",
       "      <td>18:22:00</td>\n",
       "      <td>18:23:00</td>\n",
       "    </tr>\n",
       "    <tr>\n",
       "      <th>7009703</th>\n",
       "      <td>19:10:00</td>\n",
       "      <td>19:10:00</td>\n",
       "      <td>20:17:00</td>\n",
       "      <td>20:16:00</td>\n",
       "    </tr>\n",
       "    <tr>\n",
       "      <th>7009704</th>\n",
       "      <td>14:41:00</td>\n",
       "      <td>14:45:00</td>\n",
       "      <td>16:04:00</td>\n",
       "      <td>16:22:00</td>\n",
       "    </tr>\n",
       "    <tr>\n",
       "      <th>7009705</th>\n",
       "      <td>09:21:00</td>\n",
       "      <td>08:30:00</td>\n",
       "      <td>11:12:00</td>\n",
       "      <td>10:08:00</td>\n",
       "    </tr>\n",
       "    <tr>\n",
       "      <th>7009706</th>\n",
       "      <td>14:35:00</td>\n",
       "      <td>14:40:00</td>\n",
       "      <td>17:01:00</td>\n",
       "      <td>17:04:00</td>\n",
       "    </tr>\n",
       "    <tr>\n",
       "      <th>7009707</th>\n",
       "      <td>17:50:00</td>\n",
       "      <td>17:55:00</td>\n",
       "      <td>20:10:00</td>\n",
       "      <td>20:15:00</td>\n",
       "    </tr>\n",
       "    <tr>\n",
       "      <th>7009708</th>\n",
       "      <td>07:06:00</td>\n",
       "      <td>07:10:00</td>\n",
       "      <td>08:50:00</td>\n",
       "      <td>08:37:00</td>\n",
       "    </tr>\n",
       "    <tr>\n",
       "      <th>7009709</th>\n",
       "      <td>15:52:00</td>\n",
       "      <td>15:20:00</td>\n",
       "      <td>17:35:00</td>\n",
       "      <td>17:18:00</td>\n",
       "    </tr>\n",
       "    <tr>\n",
       "      <th>7009710</th>\n",
       "      <td>12:50:00</td>\n",
       "      <td>12:20:00</td>\n",
       "      <td>16:17:00</td>\n",
       "      <td>15:52:00</td>\n",
       "    </tr>\n",
       "    <tr>\n",
       "      <th>7009711</th>\n",
       "      <td>10:33:00</td>\n",
       "      <td>10:41:00</td>\n",
       "      <td>12:55:00</td>\n",
       "      <td>13:03:00</td>\n",
       "    </tr>\n",
       "    <tr>\n",
       "      <th>7009712</th>\n",
       "      <td>08:40:00</td>\n",
       "      <td>08:43:00</td>\n",
       "      <td>10:25:00</td>\n",
       "      <td>10:21:00</td>\n",
       "    </tr>\n",
       "    <tr>\n",
       "      <th>7009713</th>\n",
       "      <td>08:10:00</td>\n",
       "      <td>08:15:00</td>\n",
       "      <td>15:04:00</td>\n",
       "      <td>15:26:00</td>\n",
       "    </tr>\n",
       "    <tr>\n",
       "      <th>7009714</th>\n",
       "      <td>05:47:00</td>\n",
       "      <td>05:45:00</td>\n",
       "      <td>06:46:00</td>\n",
       "      <td>06:50:00</td>\n",
       "    </tr>\n",
       "    <tr>\n",
       "      <th>7009715</th>\n",
       "      <td>08:48:00</td>\n",
       "      <td>08:50:00</td>\n",
       "      <td>10:24:00</td>\n",
       "      <td>10:05:00</td>\n",
       "    </tr>\n",
       "    <tr>\n",
       "      <th>7009716</th>\n",
       "      <td>09:36:00</td>\n",
       "      <td>09:36:00</td>\n",
       "      <td>11:14:00</td>\n",
       "      <td>11:19:00</td>\n",
       "    </tr>\n",
       "    <tr>\n",
       "      <th>7009717</th>\n",
       "      <td>06:57:00</td>\n",
       "      <td>06:00:00</td>\n",
       "      <td>09:04:00</td>\n",
       "      <td>07:49:00</td>\n",
       "    </tr>\n",
       "    <tr>\n",
       "      <th>7009718</th>\n",
       "      <td>10:07:00</td>\n",
       "      <td>08:47:00</td>\n",
       "      <td>11:49:00</td>\n",
       "      <td>10:10:00</td>\n",
       "    </tr>\n",
       "    <tr>\n",
       "      <th>7009719</th>\n",
       "      <td>06:38:00</td>\n",
       "      <td>06:40:00</td>\n",
       "      <td>08:08:00</td>\n",
       "      <td>07:53:00</td>\n",
       "    </tr>\n",
       "    <tr>\n",
       "      <th>7009720</th>\n",
       "      <td>07:56:00</td>\n",
       "      <td>08:00:00</td>\n",
       "      <td>10:32:00</td>\n",
       "      <td>10:26:00</td>\n",
       "    </tr>\n",
       "    <tr>\n",
       "      <th>7009721</th>\n",
       "      <td>06:12:00</td>\n",
       "      <td>06:15:00</td>\n",
       "      <td>09:23:00</td>\n",
       "      <td>09:07:00</td>\n",
       "    </tr>\n",
       "    <tr>\n",
       "      <th>7009722</th>\n",
       "      <td>07:49:00</td>\n",
       "      <td>07:50:00</td>\n",
       "      <td>09:01:00</td>\n",
       "      <td>08:59:00</td>\n",
       "    </tr>\n",
       "    <tr>\n",
       "      <th>7009723</th>\n",
       "      <td>10:02:00</td>\n",
       "      <td>09:59:00</td>\n",
       "      <td>12:04:00</td>\n",
       "      <td>11:50:00</td>\n",
       "    </tr>\n",
       "    <tr>\n",
       "      <th>7009724</th>\n",
       "      <td>08:34:00</td>\n",
       "      <td>08:35:00</td>\n",
       "      <td>10:21:00</td>\n",
       "      <td>10:23:00</td>\n",
       "    </tr>\n",
       "    <tr>\n",
       "      <th>7009725</th>\n",
       "      <td>06:55:00</td>\n",
       "      <td>07:00:00</td>\n",
       "      <td>08:56:00</td>\n",
       "      <td>08:56:00</td>\n",
       "    </tr>\n",
       "    <tr>\n",
       "      <th>7009726</th>\n",
       "      <td>12:51:00</td>\n",
       "      <td>12:40:00</td>\n",
       "      <td>14:46:00</td>\n",
       "      <td>14:37:00</td>\n",
       "    </tr>\n",
       "    <tr>\n",
       "      <th>7009727</th>\n",
       "      <td>11:10:00</td>\n",
       "      <td>11:03:00</td>\n",
       "      <td>14:13:00</td>\n",
       "      <td>14:18:00</td>\n",
       "    </tr>\n",
       "  </tbody>\n",
       "</table>\n",
       "<p>7009728 rows × 4 columns</p>\n",
       "</div>"
      ],
      "text/plain": [
       "          DepTime CRSDepTime   ArrTime CRSArrTime\n",
       "0        20:03:00   19:55:00  22:11:00   22:25:00\n",
       "1        07:54:00   07:35:00  10:02:00   10:00:00\n",
       "2        06:28:00   06:20:00  08:04:00   07:50:00\n",
       "3        09:26:00   09:30:00  10:54:00   11:00:00\n",
       "4        18:29:00   17:55:00  19:59:00   19:25:00\n",
       "5        19:40:00   19:15:00  21:21:00   21:10:00\n",
       "6        19:37:00   18:30:00  20:37:00   19:40:00\n",
       "7        10:39:00   10:40:00  11:32:00   11:50:00\n",
       "8        06:17:00   06:15:00  06:52:00   06:50:00\n",
       "9        16:20:00   16:20:00  16:39:00   16:55:00\n",
       "10       07:06:00   07:00:00  09:16:00   09:15:00\n",
       "11       16:44:00   15:10:00  18:45:00   17:25:00\n",
       "12       14:26:00   14:30:00  14:26:00   14:25:00\n",
       "13       07:15:00   07:15:00  07:20:00   07:10:00\n",
       "14       17:02:00   17:00:00  16:51:00   16:55:00\n",
       "15       10:29:00   10:20:00  10:21:00   10:10:00\n",
       "16       14:52:00   14:25:00  16:40:00   16:25:00\n",
       "17       07:54:00   07:45:00  09:40:00   09:55:00\n",
       "18       13:23:00   12:55:00  15:26:00   15:10:00\n",
       "19       14:16:00   13:25:00  15:12:00   14:35:00\n",
       "20       07:06:00   07:05:00  08:07:00   08:10:00\n",
       "21       16:57:00   16:25:00  17:54:00   17:35:00\n",
       "22       19:00:00   18:40:00  19:56:00   19:50:00\n",
       "23       10:39:00   10:30:00  11:33:00   11:40:00\n",
       "24       08:01:00   08:00:00  09:02:00   09:10:00\n",
       "25       15:20:00   14:55:00  16:19:00   16:05:00\n",
       "26       14:22:00   12:55:00  16:57:00   16:10:00\n",
       "27       19:54:00   19:25:00  22:39:00   22:35:00\n",
       "28       06:36:00   06:35:00  09:21:00   09:45:00\n",
       "29       07:34:00   07:30:00  09:58:00   10:20:00\n",
       "...           ...        ...       ...        ...\n",
       "7009698  16:25:00   16:35:00  17:44:00   17:58:00\n",
       "7009699  12:54:00   12:21:00  14:20:00   13:59:00\n",
       "7009700  18:42:00   18:45:00  19:53:00   20:06:00\n",
       "7009701  15:28:00   15:00:00  17:20:00   16:42:00\n",
       "7009702  15:31:00   15:22:00  18:22:00   18:23:00\n",
       "7009703  19:10:00   19:10:00  20:17:00   20:16:00\n",
       "7009704  14:41:00   14:45:00  16:04:00   16:22:00\n",
       "7009705  09:21:00   08:30:00  11:12:00   10:08:00\n",
       "7009706  14:35:00   14:40:00  17:01:00   17:04:00\n",
       "7009707  17:50:00   17:55:00  20:10:00   20:15:00\n",
       "7009708  07:06:00   07:10:00  08:50:00   08:37:00\n",
       "7009709  15:52:00   15:20:00  17:35:00   17:18:00\n",
       "7009710  12:50:00   12:20:00  16:17:00   15:52:00\n",
       "7009711  10:33:00   10:41:00  12:55:00   13:03:00\n",
       "7009712  08:40:00   08:43:00  10:25:00   10:21:00\n",
       "7009713  08:10:00   08:15:00  15:04:00   15:26:00\n",
       "7009714  05:47:00   05:45:00  06:46:00   06:50:00\n",
       "7009715  08:48:00   08:50:00  10:24:00   10:05:00\n",
       "7009716  09:36:00   09:36:00  11:14:00   11:19:00\n",
       "7009717  06:57:00   06:00:00  09:04:00   07:49:00\n",
       "7009718  10:07:00   08:47:00  11:49:00   10:10:00\n",
       "7009719  06:38:00   06:40:00  08:08:00   07:53:00\n",
       "7009720  07:56:00   08:00:00  10:32:00   10:26:00\n",
       "7009721  06:12:00   06:15:00  09:23:00   09:07:00\n",
       "7009722  07:49:00   07:50:00  09:01:00   08:59:00\n",
       "7009723  10:02:00   09:59:00  12:04:00   11:50:00\n",
       "7009724  08:34:00   08:35:00  10:21:00   10:23:00\n",
       "7009725  06:55:00   07:00:00  08:56:00   08:56:00\n",
       "7009726  12:51:00   12:40:00  14:46:00   14:37:00\n",
       "7009727  11:10:00   11:03:00  14:13:00   14:18:00\n",
       "\n",
       "[7009728 rows x 4 columns]"
      ]
     },
     "execution_count": 18,
     "metadata": {},
     "output_type": "execute_result"
    }
   ],
   "source": [
    "# Check that all times are hours and minutes now\n",
    "df[time_col]"
   ]
  },
  {
   "cell_type": "markdown",
   "metadata": {},
   "source": [
    "### Remove rows where flight was not cancelled but there is no flight time\n",
    "These flights will not have the information needed for analysis"
   ]
  },
  {
   "cell_type": "code",
   "execution_count": 19,
   "metadata": {},
   "outputs": [
    {
     "data": {
      "text/plain": [
       "Year                       0\n",
       "Month                      0\n",
       "DayofMonth                 0\n",
       "DayOfWeek                  0\n",
       "DepTime                  521\n",
       "CRSDepTime                 0\n",
       "ArrTime                16892\n",
       "CRSArrTime               547\n",
       "UniqueCarrier              0\n",
       "FlightNum                  0\n",
       "TailNum                    7\n",
       "ActualElapsedTime      17265\n",
       "CRSElapsedTime           598\n",
       "AirTime                17265\n",
       "ArrDelay               17265\n",
       "DepDelay                   0\n",
       "Origin                     0\n",
       "Dest                       0\n",
       "Distance                   0\n",
       "TaxiIn                 14215\n",
       "TaxiOut                    0\n",
       "Cancelled                  0\n",
       "CancellationCode           0\n",
       "Diverted                   0\n",
       "CarrierDelay         5347559\n",
       "WeatherDelay         5347559\n",
       "NASDelay             5347559\n",
       "SecurityDelay        5347559\n",
       "LateAircraftDelay    5347559\n",
       "dtype: int64"
      ]
     },
     "execution_count": 19,
     "metadata": {},
     "output_type": "execute_result"
    }
   ],
   "source": [
    "# Identify nulls where flights were not cancelled\n",
    "df[df.Cancelled==0].isna().sum()"
   ]
  },
  {
   "cell_type": "code",
   "execution_count": 20,
   "metadata": {},
   "outputs": [
    {
     "data": {
      "text/plain": [
       "(7009728, 29)"
      ]
     },
     "execution_count": 20,
     "metadata": {},
     "output_type": "execute_result"
    }
   ],
   "source": [
    "df.shape"
   ]
  },
  {
   "cell_type": "code",
   "execution_count": 21,
   "metadata": {},
   "outputs": [
    {
     "data": {
      "text/plain": [
       "(17265, 6992463)"
      ]
     },
     "execution_count": 21,
     "metadata": {},
     "output_type": "execute_result"
    }
   ],
   "source": [
    "# Indices where Cancelled = False and Elapsed Time is null\n",
    "to_remove = df[(df.Cancelled==0) & (df.ActualElapsedTime.isnull())].index\n",
    "len(to_remove), df.shape[0]-len(to_remove)"
   ]
  },
  {
   "cell_type": "code",
   "execution_count": 22,
   "metadata": {
    "scrolled": true
   },
   "outputs": [
    {
     "data": {
      "text/plain": [
       "(6992463, 29)"
      ]
     },
     "execution_count": 22,
     "metadata": {},
     "output_type": "execute_result"
    }
   ],
   "source": [
    "# Remove these indices from the dataframe\n",
    "df.drop(index=to_remove, inplace=True)\n",
    "\n",
    "# Check if the shape changed correctly\n",
    "df.shape"
   ]
  },
  {
   "cell_type": "markdown",
   "metadata": {},
   "source": [
    "### Replace numeric nulls with 0"
   ]
  },
  {
   "cell_type": "code",
   "execution_count": 23,
   "metadata": {
    "scrolled": true
   },
   "outputs": [
    {
     "data": {
      "text/plain": [
       "Index(['Year', 'Month', 'DayofMonth', 'DayOfWeek', 'FlightNum',\n",
       "       'ActualElapsedTime', 'CRSElapsedTime', 'AirTime', 'ArrDelay',\n",
       "       'DepDelay', 'Distance', 'TaxiIn', 'TaxiOut', 'Cancelled', 'Diverted',\n",
       "       'CarrierDelay', 'WeatherDelay', 'NASDelay', 'SecurityDelay',\n",
       "       'LateAircraftDelay'],\n",
       "      dtype='object')"
      ]
     },
     "execution_count": 23,
     "metadata": {},
     "output_type": "execute_result"
    }
   ],
   "source": [
    "# identify numeric nulls again\n",
    "numerics = ['int16', 'int32', 'int64', 'float16', 'float32', 'float64']\n",
    "\n",
    "num_col = df.select_dtypes(include=numerics).columns #head().transpose()\n",
    "num_col"
   ]
  },
  {
   "cell_type": "code",
   "execution_count": 24,
   "metadata": {},
   "outputs": [
    {
     "data": {
      "text/plain": [
       "Year                      0\n",
       "Month                     0\n",
       "DayofMonth                0\n",
       "DayOfWeek                 0\n",
       "DepTime              136246\n",
       "CRSDepTime                0\n",
       "ArrTime              137434\n",
       "CRSArrTime                0\n",
       "UniqueCarrier             0\n",
       "FlightNum                 0\n",
       "TailNum               83358\n",
       "ActualElapsedTime    137434\n",
       "CRSElapsedTime          246\n",
       "AirTime              137434\n",
       "ArrDelay             137434\n",
       "DepDelay             136246\n",
       "Origin                    0\n",
       "Dest                      0\n",
       "Distance                  0\n",
       "TaxiIn               137434\n",
       "TaxiOut              137058\n",
       "Cancelled                 0\n",
       "CancellationCode          0\n",
       "Diverted                  0\n",
       "CarrierDelay         137434\n",
       "WeatherDelay         137434\n",
       "NASDelay             137434\n",
       "SecurityDelay        137434\n",
       "LateAircraftDelay    137434\n",
       "dtype: int64"
      ]
     },
     "execution_count": 24,
     "metadata": {},
     "output_type": "execute_result"
    }
   ],
   "source": [
    "# Check if nulls only occur when flights are cancelled\n",
    "df[df.Cancelled==1].isna().sum()"
   ]
  },
  {
   "cell_type": "code",
   "execution_count": 25,
   "metadata": {},
   "outputs": [
    {
     "data": {
      "text/plain": [
       "Year                       0\n",
       "Month                      0\n",
       "DayofMonth                 0\n",
       "DayOfWeek                  0\n",
       "DepTime                  521\n",
       "CRSDepTime                 0\n",
       "ArrTime                 2668\n",
       "CRSArrTime                 0\n",
       "UniqueCarrier              0\n",
       "FlightNum                  0\n",
       "TailNum                    5\n",
       "ActualElapsedTime          0\n",
       "CRSElapsedTime             0\n",
       "AirTime                    0\n",
       "ArrDelay                   0\n",
       "DepDelay                   0\n",
       "Origin                     0\n",
       "Dest                       0\n",
       "Distance                   0\n",
       "TaxiIn                     0\n",
       "TaxiOut                    0\n",
       "Cancelled                  0\n",
       "CancellationCode           0\n",
       "Diverted                   0\n",
       "CarrierDelay         5330294\n",
       "WeatherDelay         5330294\n",
       "NASDelay             5330294\n",
       "SecurityDelay        5330294\n",
       "LateAircraftDelay    5330294\n",
       "dtype: int64"
      ]
     },
     "execution_count": 25,
     "metadata": {},
     "output_type": "execute_result"
    }
   ],
   "source": [
    "# Identify nulls where flights were not cancelled\n",
    "df[df.Cancelled==0].isna().sum()"
   ]
  },
  {
   "cell_type": "code",
   "execution_count": 26,
   "metadata": {},
   "outputs": [],
   "source": [
    "# Delays and elapsed times and taxi times are replaced with zeros\n",
    "values = {'CarrierDelay':0, 'WeatherDelay':0, \n",
    "          'NASDelay':0, 'SecurityDelay':0, \n",
    "          'LateAircraftDelay':0, 'AirTime': 0,\n",
    "          'ArrDelay': 0, 'DepDelay': 0,\n",
    "          'TaxiIn': 0, 'TaxiOut': 0,\n",
    "          'ActualElapsedTime': 0, 'CRSElapsedTime': 0}\n",
    "df.fillna(value=values, inplace=True)\n",
    "\n",
    "# ArrTime and DepTime will be replaced with CRSArrTime and CRSDepTime respectively\n",
    "values2 = {'ArrTime': df['CRSArrTime'], 'DepTime': df['CRSDepTime']}\n",
    "df.fillna(value=values2, inplace=True)"
   ]
  },
  {
   "cell_type": "code",
   "execution_count": 27,
   "metadata": {},
   "outputs": [
    {
     "data": {
      "text/plain": [
       "Year                     0\n",
       "Month                    0\n",
       "DayofMonth               0\n",
       "DayOfWeek                0\n",
       "DepTime                  0\n",
       "CRSDepTime               0\n",
       "ArrTime                  0\n",
       "CRSArrTime               0\n",
       "UniqueCarrier            0\n",
       "FlightNum                0\n",
       "TailNum              83363\n",
       "ActualElapsedTime        0\n",
       "CRSElapsedTime           0\n",
       "AirTime                  0\n",
       "ArrDelay                 0\n",
       "DepDelay                 0\n",
       "Origin                   0\n",
       "Dest                     0\n",
       "Distance                 0\n",
       "TaxiIn                   0\n",
       "TaxiOut                  0\n",
       "Cancelled                0\n",
       "CancellationCode         0\n",
       "Diverted                 0\n",
       "CarrierDelay             0\n",
       "WeatherDelay             0\n",
       "NASDelay                 0\n",
       "SecurityDelay            0\n",
       "LateAircraftDelay        0\n",
       "dtype: int64"
      ]
     },
     "execution_count": 27,
     "metadata": {},
     "output_type": "execute_result"
    }
   ],
   "source": [
    "# Check for nulls - all clean except TailNum, which is not necessary for this analysis\n",
    "df.isna().sum()"
   ]
  },
  {
   "cell_type": "markdown",
   "metadata": {},
   "source": [
    "### Eliminate extra Origin Airport"
   ]
  },
  {
   "cell_type": "code",
   "execution_count": 31,
   "metadata": {
    "scrolled": true
   },
   "outputs": [
    {
     "data": {
      "text/plain": [
       "{'PUB'}"
      ]
     },
     "execution_count": 31,
     "metadata": {},
     "output_type": "execute_result"
    }
   ],
   "source": [
    "# One extra Origin airport\n",
    "set(df.Origin.value_counts().index) - set(df.Dest.value_counts().index)"
   ]
  },
  {
   "cell_type": "code",
   "execution_count": 32,
   "metadata": {
    "scrolled": true
   },
   "outputs": [
    {
     "data": {
      "text/html": [
       "<div>\n",
       "<style scoped>\n",
       "    .dataframe tbody tr th:only-of-type {\n",
       "        vertical-align: middle;\n",
       "    }\n",
       "\n",
       "    .dataframe tbody tr th {\n",
       "        vertical-align: top;\n",
       "    }\n",
       "\n",
       "    .dataframe thead th {\n",
       "        text-align: right;\n",
       "    }\n",
       "</style>\n",
       "<table border=\"1\" class=\"dataframe\">\n",
       "  <thead>\n",
       "    <tr style=\"text-align: right;\">\n",
       "      <th></th>\n",
       "      <th>Year</th>\n",
       "      <th>Month</th>\n",
       "      <th>DayofMonth</th>\n",
       "      <th>DayOfWeek</th>\n",
       "      <th>DepTime</th>\n",
       "      <th>CRSDepTime</th>\n",
       "      <th>ArrTime</th>\n",
       "      <th>CRSArrTime</th>\n",
       "      <th>UniqueCarrier</th>\n",
       "      <th>FlightNum</th>\n",
       "      <th>...</th>\n",
       "      <th>TaxiIn</th>\n",
       "      <th>TaxiOut</th>\n",
       "      <th>Cancelled</th>\n",
       "      <th>CancellationCode</th>\n",
       "      <th>Diverted</th>\n",
       "      <th>CarrierDelay</th>\n",
       "      <th>WeatherDelay</th>\n",
       "      <th>NASDelay</th>\n",
       "      <th>SecurityDelay</th>\n",
       "      <th>LateAircraftDelay</th>\n",
       "    </tr>\n",
       "  </thead>\n",
       "  <tbody>\n",
       "    <tr>\n",
       "      <th>3701794</th>\n",
       "      <td>2008</td>\n",
       "      <td>7</td>\n",
       "      <td>8</td>\n",
       "      <td>2</td>\n",
       "      <td>17:40:00</td>\n",
       "      <td>16:55:00</td>\n",
       "      <td>18:14:00</td>\n",
       "      <td>17:04:00</td>\n",
       "      <td>XE</td>\n",
       "      <td>104</td>\n",
       "      <td>...</td>\n",
       "      <td>5.0</td>\n",
       "      <td>18.0</td>\n",
       "      <td>0</td>\n",
       "      <td>E</td>\n",
       "      <td>0</td>\n",
       "      <td>0.0</td>\n",
       "      <td>45.0</td>\n",
       "      <td>25.0</td>\n",
       "      <td>0.0</td>\n",
       "      <td>0.0</td>\n",
       "    </tr>\n",
       "    <tr>\n",
       "      <th>3702095</th>\n",
       "      <td>2008</td>\n",
       "      <td>7</td>\n",
       "      <td>14</td>\n",
       "      <td>1</td>\n",
       "      <td>13:31:00</td>\n",
       "      <td>13:22:00</td>\n",
       "      <td>14:49:00</td>\n",
       "      <td>13:31:00</td>\n",
       "      <td>XE</td>\n",
       "      <td>117</td>\n",
       "      <td>...</td>\n",
       "      <td>8.0</td>\n",
       "      <td>41.0</td>\n",
       "      <td>0</td>\n",
       "      <td>E</td>\n",
       "      <td>0</td>\n",
       "      <td>0.0</td>\n",
       "      <td>9.0</td>\n",
       "      <td>69.0</td>\n",
       "      <td>0.0</td>\n",
       "      <td>0.0</td>\n",
       "    </tr>\n",
       "  </tbody>\n",
       "</table>\n",
       "<p>2 rows × 29 columns</p>\n",
       "</div>"
      ],
      "text/plain": [
       "         Year  Month  DayofMonth  DayOfWeek   DepTime CRSDepTime   ArrTime  \\\n",
       "3701794  2008      7           8          2  17:40:00   16:55:00  18:14:00   \n",
       "3702095  2008      7          14          1  13:31:00   13:22:00  14:49:00   \n",
       "\n",
       "        CRSArrTime UniqueCarrier  FlightNum  ... TaxiIn  TaxiOut  Cancelled  \\\n",
       "3701794   17:04:00            XE        104  ...    5.0     18.0          0   \n",
       "3702095   13:31:00            XE        117  ...    8.0     41.0          0   \n",
       "\n",
       "         CancellationCode  Diverted  CarrierDelay WeatherDelay NASDelay  \\\n",
       "3701794                 E         0           0.0         45.0     25.0   \n",
       "3702095                 E         0           0.0          9.0     69.0   \n",
       "\n",
       "         SecurityDelay  LateAircraftDelay  \n",
       "3701794            0.0                0.0  \n",
       "3702095            0.0                0.0  \n",
       "\n",
       "[2 rows x 29 columns]"
      ]
     },
     "execution_count": 32,
     "metadata": {},
     "output_type": "execute_result"
    }
   ],
   "source": [
    "# Only two examples == neglibile for this analysis\n",
    "df[df.Origin=='PUB']"
   ]
  },
  {
   "cell_type": "code",
   "execution_count": 33,
   "metadata": {},
   "outputs": [],
   "source": [
    "# Remove unnecessary rows with PUB airport\n",
    "df = df[df.Origin!='PUB']"
   ]
  },
  {
   "cell_type": "markdown",
   "metadata": {},
   "source": [
    "<a id='eda'></a>\n",
    "## Exploratory Data Analysis\n",
    "### Over-arching Question: What are the causes of cancellations, and can we avoid getting on a cancelled flight?\n",
    "<ul>\n",
    "    <li><a href=\"#can\">How many flights were cancelled in 2008?</a></li>\n",
    "    <li><a href=\"#code\">What is the most common reason for cancellation?</a></li>\n",
    "    <li><a href=\"#dep\">Where do cancellations occur?</a></li>\n",
    "    <li><a href=\"#delay\">Are all flights that are cancelled delayed first?</a><li>\n",
    "    <ul>\n",
    "        <li>If a flight is delayed before cancellation, how long is it delayed?</li>\n",
    "        <li>If a flight is delayed for more than one reason, which reason cancels it</li>\n",
    "    </ul>\n",
    "    <li><a href=\"#taxi\">Did cancelled flights spend much time on the runway?</a></li>\n",
    "    <li><a href=\"#when\">When do the most delays occur?</a></li>\n",
    "    <ul>\n",
    "        <li>Month? Day? Hour?</li>\n",
    "    </ul>\n",
    "    <li><a href=\"#orgdest\">Do certain trips have more cancellations?</a></li>\n",
    "    <li><a href=\"#dist\">Are cancellations correlated with flight distance?</a></li>\n",
    "    <li><a href=\"#carrier\">Does a certain carrier have more cancellations?</a></li>\n",
    "    </ul>"
   ]
  },
  {
   "cell_type": "markdown",
   "metadata": {},
   "source": [
    "<a id=\"can\"></a>\n",
    "### Cancelled vs Not Cancelled Flights"
   ]
  },
  {
   "cell_type": "code",
   "execution_count": 34,
   "metadata": {},
   "outputs": [
    {
     "data": {
      "text/plain": [
       "6855027"
      ]
     },
     "execution_count": 34,
     "metadata": {},
     "output_type": "execute_result"
    }
   ],
   "source": [
    "cc = df['Cancelled'].value_counts()\n",
    "cc[0]"
   ]
  },
  {
   "cell_type": "code",
   "execution_count": 185,
   "metadata": {},
   "outputs": [
    {
     "data": {
      "text/plain": [
       "0    6855027\n",
       "1     137434\n",
       "Name: Cancelled, dtype: int64"
      ]
     },
     "execution_count": 185,
     "metadata": {},
     "output_type": "execute_result"
    }
   ],
   "source": [
    "cc"
   ]
  },
  {
   "cell_type": "code",
   "execution_count": 35,
   "metadata": {
    "scrolled": true
   },
   "outputs": [
    {
     "data": {
      "image/png": "[encoded data removed]",
      "text/plain": [
       "<Figure size 432x288 with 1 Axes>"
      ]
     },
     "metadata": {
      "needs_background": "light"
     },
     "output_type": "display_data"
    }
   ],
   "source": [
    "base_color = sb.color_palette()[0]\n",
    "ax = sb.countplot(data = df, x = 'Cancelled', \n",
    "             color = base_color);\n",
    "plt.ylim([0, 7500000])\n",
    "\n",
    "# add annotations\n",
    "n = df.shape[0]\n",
    "cat_counts = df['Cancelled'].value_counts()\n",
    "locs, labels = plt.xticks() # get the current tick locations and labels\n",
    "cat_counts\n",
    "# loop through each pair of locations and labels\n",
    "for loc, label in zip(locs, labels):\n",
    "    # get the text property for the label to get the correct count\n",
    "    count = cat_counts[int(label.get_text())]\n",
    "    ct_string = '{:0.2f}%'.format(count/n)\n",
    "    plt.text(loc, count+100000, ct_string, ha = 'center', color = 'k')\n",
    "    \n",
    "plt.xticks([0, 1], ['Not Cancelled', 'Cancelled']);\n",
    "plt.title('Distribution of Cancellations by Code', fontsize=15);"
   ]
  },
  {
   "cell_type": "markdown",
   "metadata": {},
   "source": [
    "> **A large majority of flights were successful, while only a small number were cancelled. We'll mainly focus on just the cancelled flights (or relative number of cancelled flights by category) to see if we can determine where (by airline) most flights are cancelled, why (by cancellation code), and when (by month).**"
   ]
  },
  {
   "cell_type": "markdown",
   "metadata": {},
   "source": [
    "#### Subsets of Cancelled or Not Cancelled Flights"
   ]
  },
  {
   "cell_type": "code",
   "execution_count": 124,
   "metadata": {
    "scrolled": true
   },
   "outputs": [
    {
     "name": "stdout",
     "output_type": "stream",
     "text": [
      "There were 137434 cancelled flights out of 6992461 total flights in 2008\n"
     ]
    }
   ],
   "source": [
    "# Create a subset of the data for cancelled flights:\n",
    "df_cancelled = df.query('(Cancelled==1)')\n",
    "df_notcancelled = df.query('(Cancelled==0)')\n",
    "print('There were {:0.0f} cancelled flights out of {:0.0f} total flights in 2008'.format(df_cancelled.shape[0], df.shape[0]))"
   ]
  },
  {
   "cell_type": "markdown",
   "metadata": {},
   "source": [
    "<a id=\"code\"></a>\n",
    "### Distribution of Cancellation Codes"
   ]
  },
  {
   "cell_type": "code",
   "execution_count": 127,
   "metadata": {
    "scrolled": false
   },
   "outputs": [
    {
     "data": {
      "image/png": "[encoded data removed]",
      "text/plain": [
       "<Figure size 864x576 with 1 Axes>"
      ]
     },
     "metadata": {
      "needs_background": "light"
     },
     "output_type": "display_data"
    }
   ],
   "source": [
    "plt.figure(figsize=(12,8));\n",
    "# Distribution of cancellation codes\n",
    "cancel_codes = ['Carrier', 'NAS', 'Weather', 'Security']\n",
    "locs = range(4)\n",
    "base_color = sb.color_palette()[0]\n",
    "ax = sb.countplot(data = df_cancelled, x = 'CancellationCode', \n",
    "             color = base_color);\n",
    "\n",
    "# add annotations\n",
    "n_points = df_cancelled.shape[0]\n",
    "cat_counts = df_cancelled['CancellationCode'].value_counts()\n",
    "locs, labels = plt.xticks() # get the current tick locations and labels\n",
    "\n",
    "# loop through each pair of locations and labels\n",
    "for loc, label in zip(locs, labels):\n",
    "    # get the text property for the label to get the correct count\n",
    "    count = cat_counts[label.get_text()]\n",
    "    pct_string = '{:0.2f}%'.format(100*count/n_points)\n",
    "    if count > 2000:\n",
    "        # print the annotation just below the top of the bar\n",
    "        plt.text(loc, 0.9*count, pct_string, ha = 'center', color = 'w')\n",
    "    else:\n",
    "        plt.text(loc, 1000, pct_string, ha = 'center', color = base_color)\n",
    "    \n",
    "plt.xticks(locs, cancel_codes);\n",
    "plt.title('Cancellations by Code\\nCount and Percent of Total Cancellations', fontsize=15);"
   ]
  },
  {
   "cell_type": "markdown",
   "metadata": {},
   "source": [
    "> **Carrier and Weather are nearly tied for the most common causes of cancellations. Security makes up only 0.01% of all cancellations, while NAS falls somewhere in the middle at about 1/5 of all cancellations. It may be interesting to see if Carrier and Weather are also correlated with Origin Airports, such that airports in certain locations are more susceptible to poor weather and typically fly planes from certain carriers.**"
   ]
  },
  {
   "cell_type": "markdown",
   "metadata": {},
   "source": [
    "<a id=\"dep\"></a>\n",
    "### Flights Cancelled by Origin Airport"
   ]
  },
  {
   "cell_type": "code",
   "execution_count": 38,
   "metadata": {
    "scrolled": false
   },
   "outputs": [
    {
     "data": {
      "image/png": "[encoded data removed]",
      "text/plain": [
       "<Figure size 864x576 with 1 Axes>"
      ]
     },
     "metadata": {
      "needs_background": "light"
     },
     "output_type": "display_data"
    }
   ],
   "source": [
    "# Cancellations by Airports - most cancellations\n",
    "base_color = sb.color_palette()[0]\n",
    "\n",
    "top = (df_cancelled.Origin.value_counts()[0:15].index)\n",
    "plt.figure(figsize=(12,8))\n",
    "ax = sb.countplot(data = df_cancelled[df_cancelled.Origin.isin(top)], x='Origin', \n",
    "             color = base_color, order=top);\n",
    "plt.title('Top 15 Most Cancellations by Origin Airport', fontsize=15);"
   ]
  },
  {
   "cell_type": "code",
   "execution_count": 190,
   "metadata": {},
   "outputs": [
    {
     "data": {
      "text/plain": [
       "ORD    15050\n",
       "DFW     7272\n",
       "ATL     5830\n",
       "LGA     5753\n",
       "EWR     4511\n",
       "BOS     3655\n",
       "IAH     3261\n",
       "JFK     3196\n",
       "LAX     2838\n",
       "SFO     2790\n",
       "DCA     2735\n",
       "DEN     2725\n",
       "DTW     2583\n",
       "IAD     2077\n",
       "LAS     2057\n",
       "Name: Origin, dtype: int64"
      ]
     },
     "execution_count": 190,
     "metadata": {},
     "output_type": "execute_result"
    }
   ],
   "source": [
    "df_cancelled.Origin.value_counts()[0:15] #.index)"
   ]
  },
  {
   "cell_type": "code",
   "execution_count": 39,
   "metadata": {
    "scrolled": false
   },
   "outputs": [
    {
     "data": {
      "image/png": "[encoded data removed]",
      "text/plain": [
       "<Figure size 864x576 with 2 Axes>"
      ]
     },
     "metadata": {
      "needs_background": "light"
     },
     "output_type": "display_data"
    }
   ],
   "source": [
    "# % Cancelled Flights for the Top 15 Origina Airports with most cancellations\n",
    "# ie. for each airport, the percentage of cancelled flights relative to that airport's total flights\n",
    "# top = airport labels\n",
    "top = (df_cancelled.Origin.value_counts()[0:15].index)\n",
    "fig, ax1 = plt.subplots(figsize=(12,8))\n",
    "\n",
    "ax1 = sb.countplot(data = df_cancelled[df_cancelled.Origin.isin(top)], x='Origin', \n",
    "             color = base_color, order=top);\n",
    "\n",
    "n_points = df[df.Origin.isin(top)].Origin.value_counts().values\n",
    "n_cancels = df_cancelled[df_cancelled.Origin.isin(top)].Origin.value_counts().values\n",
    "locs = range(15)\n",
    "locslabs = sorted(zip(locs, top, n_cancels, n_points), key=lambda x: x[1])\n",
    "\n",
    "plt.title('Number of Cancelled Flights\\nand Percent of Cancelled Flights\\n by Origin Airport', fontsize=15);\n",
    "ax1.set_ylabel('Number Flights Cancelled by Airport', color='k')  # we already handled the x-label with ax1\n",
    "\n",
    "ax2 = ax1.twinx()  # instantiate a second axes that shares the same x-axis\n",
    "pct_cnl = 100* n_cancels/ n_points\n",
    "# locs remains the same\n",
    "ax2.plot(locs, pct_cnl, color='r', marker='.')\n",
    "ax2.set_ylabel('Percent Flights Cancelled by Airport', color='r')  # we already handled the x-label with ax1\n",
    "ax2.tick_params(axis='y', labelcolor='r')\n",
    "for loc, label, can, tot in locslabs:\n",
    "    pct_str = '{:0.2f}%'.format(100*can/tot)\n",
    "    plt.text(loc, 100*can/tot+0.03, pct_str, ha='center', color='k')"
   ]
  },
  {
   "cell_type": "code",
   "execution_count": 136,
   "metadata": {
    "scrolled": false
   },
   "outputs": [
    {
     "data": {
      "image/png": "[encoded data removed]",
      "text/plain": [
       "<Figure size 864x576 with 1 Axes>"
      ]
     },
     "metadata": {
      "needs_background": "light"
     },
     "output_type": "display_data"
    }
   ],
   "source": [
    "# Cancellations by Airports and codes - most cancellations\n",
    "base_color = sb.color_palette()[0]\n",
    "\n",
    "top = (df_cancelled.Origin.value_counts()[0:15].index)\n",
    "plt.figure(figsize=(12,8))\n",
    "ax = sb.countplot(data = df_cancelled[df_cancelled.Origin.isin(top)], x='Origin', \n",
    "             hue = 'CancellationCode', order=top);\n",
    "plt.title('Top 15 Most Cancellations by Origin Airport\\nBy Cancellation Code', fontsize=15);\n",
    "\n",
    "plt.legend(['Carrier','NAS','Weather','Security']);"
   ]
  },
  {
   "cell_type": "markdown",
   "metadata": {},
   "source": [
    "![alt text](cancelcodes.png \"Cancellation Code Meanings\")\n",
    ">**Although NAS can refer to weather as well, we will keep NAS and Weather separate and will distinguish the two, knowing that Weather related to Extreme Weather, while NAS may be more common weather scenarios. Aside from Chicago (ORD) and Newark (EWR), most of the top volume airports experience cancellations due to Carrier and Weather issues. However, considering that Chicago and Newark often experience snow during the winter, many of their NAS cancellations may also be caused by weather.**"
   ]
  },
  {
   "cell_type": "markdown",
   "metadata": {},
   "source": [
    "<a id=\"delay\"></a>\n",
    "### Cancelled Flights with Delays First"
   ]
  },
  {
   "cell_type": "code",
   "execution_count": 40,
   "metadata": {},
   "outputs": [],
   "source": [
    "delay_types =  ['DepDelay', 'CarrierDelay','WeatherDelay', 'NASDelay', 'SecurityDelay', 'LateAircraftDelay']"
   ]
  },
  {
   "cell_type": "code",
   "execution_count": 41,
   "metadata": {},
   "outputs": [
    {
     "data": {
      "text/html": [
       "<div>\n",
       "<style scoped>\n",
       "    .dataframe tbody tr th:only-of-type {\n",
       "        vertical-align: middle;\n",
       "    }\n",
       "\n",
       "    .dataframe tbody tr th {\n",
       "        vertical-align: top;\n",
       "    }\n",
       "\n",
       "    .dataframe thead th {\n",
       "        text-align: right;\n",
       "    }\n",
       "</style>\n",
       "<table border=\"1\" class=\"dataframe\">\n",
       "  <thead>\n",
       "    <tr style=\"text-align: right;\">\n",
       "      <th></th>\n",
       "      <th>count</th>\n",
       "      <th>mean</th>\n",
       "      <th>std</th>\n",
       "      <th>min</th>\n",
       "      <th>25%</th>\n",
       "      <th>50%</th>\n",
       "      <th>75%</th>\n",
       "      <th>max</th>\n",
       "    </tr>\n",
       "  </thead>\n",
       "  <tbody>\n",
       "    <tr>\n",
       "      <th>DepDelay</th>\n",
       "      <td>6855027.0</td>\n",
       "      <td>9.923840</td>\n",
       "      <td>35.203866</td>\n",
       "      <td>-534.0</td>\n",
       "      <td>-4.0</td>\n",
       "      <td>-1.0</td>\n",
       "      <td>8.0</td>\n",
       "      <td>2467.0</td>\n",
       "    </tr>\n",
       "    <tr>\n",
       "      <th>CarrierDelay</th>\n",
       "      <td>6855027.0</td>\n",
       "      <td>3.508114</td>\n",
       "      <td>20.016751</td>\n",
       "      <td>0.0</td>\n",
       "      <td>0.0</td>\n",
       "      <td>0.0</td>\n",
       "      <td>0.0</td>\n",
       "      <td>2436.0</td>\n",
       "    </tr>\n",
       "    <tr>\n",
       "      <th>WeatherDelay</th>\n",
       "      <td>6855027.0</td>\n",
       "      <td>0.675951</td>\n",
       "      <td>9.284361</td>\n",
       "      <td>0.0</td>\n",
       "      <td>0.0</td>\n",
       "      <td>0.0</td>\n",
       "      <td>0.0</td>\n",
       "      <td>1352.0</td>\n",
       "    </tr>\n",
       "    <tr>\n",
       "      <th>NASDelay</th>\n",
       "      <td>6855027.0</td>\n",
       "      <td>3.817842</td>\n",
       "      <td>16.650117</td>\n",
       "      <td>0.0</td>\n",
       "      <td>0.0</td>\n",
       "      <td>0.0</td>\n",
       "      <td>0.0</td>\n",
       "      <td>1357.0</td>\n",
       "    </tr>\n",
       "    <tr>\n",
       "      <th>SecurityDelay</th>\n",
       "      <td>6855027.0</td>\n",
       "      <td>0.016676</td>\n",
       "      <td>0.867370</td>\n",
       "      <td>0.0</td>\n",
       "      <td>0.0</td>\n",
       "      <td>0.0</td>\n",
       "      <td>0.0</td>\n",
       "      <td>392.0</td>\n",
       "    </tr>\n",
       "    <tr>\n",
       "      <th>LateAircraftDelay</th>\n",
       "      <td>6855027.0</td>\n",
       "      <td>4.620003</td>\n",
       "      <td>20.431509</td>\n",
       "      <td>0.0</td>\n",
       "      <td>0.0</td>\n",
       "      <td>0.0</td>\n",
       "      <td>0.0</td>\n",
       "      <td>1316.0</td>\n",
       "    </tr>\n",
       "  </tbody>\n",
       "</table>\n",
       "</div>"
      ],
      "text/plain": [
       "                       count      mean        std    min  25%  50%  75%  \\\n",
       "DepDelay           6855027.0  9.923840  35.203866 -534.0 -4.0 -1.0  8.0   \n",
       "CarrierDelay       6855027.0  3.508114  20.016751    0.0  0.0  0.0  0.0   \n",
       "WeatherDelay       6855027.0  0.675951   9.284361    0.0  0.0  0.0  0.0   \n",
       "NASDelay           6855027.0  3.817842  16.650117    0.0  0.0  0.0  0.0   \n",
       "SecurityDelay      6855027.0  0.016676   0.867370    0.0  0.0  0.0  0.0   \n",
       "LateAircraftDelay  6855027.0  4.620003  20.431509    0.0  0.0  0.0  0.0   \n",
       "\n",
       "                      max  \n",
       "DepDelay           2467.0  \n",
       "CarrierDelay       2436.0  \n",
       "WeatherDelay       1352.0  \n",
       "NASDelay           1357.0  \n",
       "SecurityDelay       392.0  \n",
       "LateAircraftDelay  1316.0  "
      ]
     },
     "execution_count": 41,
     "metadata": {},
     "output_type": "execute_result"
    }
   ],
   "source": [
    "# Flights that were not cancelled\n",
    "df[df.Cancelled==0][delay_types].describe().transpose()"
   ]
  },
  {
   "cell_type": "code",
   "execution_count": 42,
   "metadata": {},
   "outputs": [
    {
     "data": {
      "text/html": [
       "<div>\n",
       "<style scoped>\n",
       "    .dataframe tbody tr th:only-of-type {\n",
       "        vertical-align: middle;\n",
       "    }\n",
       "\n",
       "    .dataframe tbody tr th {\n",
       "        vertical-align: top;\n",
       "    }\n",
       "\n",
       "    .dataframe thead th {\n",
       "        text-align: right;\n",
       "    }\n",
       "</style>\n",
       "<table border=\"1\" class=\"dataframe\">\n",
       "  <thead>\n",
       "    <tr style=\"text-align: right;\">\n",
       "      <th></th>\n",
       "      <th>count</th>\n",
       "      <th>mean</th>\n",
       "      <th>std</th>\n",
       "      <th>min</th>\n",
       "      <th>25%</th>\n",
       "      <th>50%</th>\n",
       "      <th>75%</th>\n",
       "      <th>max</th>\n",
       "    </tr>\n",
       "  </thead>\n",
       "  <tbody>\n",
       "    <tr>\n",
       "      <th>DepDelay</th>\n",
       "      <td>137434.0</td>\n",
       "      <td>0.411201</td>\n",
       "      <td>9.034167</td>\n",
       "      <td>-20.0</td>\n",
       "      <td>0.0</td>\n",
       "      <td>0.0</td>\n",
       "      <td>0.0</td>\n",
       "      <td>712.0</td>\n",
       "    </tr>\n",
       "    <tr>\n",
       "      <th>CarrierDelay</th>\n",
       "      <td>137434.0</td>\n",
       "      <td>0.000000</td>\n",
       "      <td>0.000000</td>\n",
       "      <td>0.0</td>\n",
       "      <td>0.0</td>\n",
       "      <td>0.0</td>\n",
       "      <td>0.0</td>\n",
       "      <td>0.0</td>\n",
       "    </tr>\n",
       "    <tr>\n",
       "      <th>WeatherDelay</th>\n",
       "      <td>137434.0</td>\n",
       "      <td>0.000000</td>\n",
       "      <td>0.000000</td>\n",
       "      <td>0.0</td>\n",
       "      <td>0.0</td>\n",
       "      <td>0.0</td>\n",
       "      <td>0.0</td>\n",
       "      <td>0.0</td>\n",
       "    </tr>\n",
       "    <tr>\n",
       "      <th>NASDelay</th>\n",
       "      <td>137434.0</td>\n",
       "      <td>0.000000</td>\n",
       "      <td>0.000000</td>\n",
       "      <td>0.0</td>\n",
       "      <td>0.0</td>\n",
       "      <td>0.0</td>\n",
       "      <td>0.0</td>\n",
       "      <td>0.0</td>\n",
       "    </tr>\n",
       "    <tr>\n",
       "      <th>SecurityDelay</th>\n",
       "      <td>137434.0</td>\n",
       "      <td>0.000000</td>\n",
       "      <td>0.000000</td>\n",
       "      <td>0.0</td>\n",
       "      <td>0.0</td>\n",
       "      <td>0.0</td>\n",
       "      <td>0.0</td>\n",
       "      <td>0.0</td>\n",
       "    </tr>\n",
       "    <tr>\n",
       "      <th>LateAircraftDelay</th>\n",
       "      <td>137434.0</td>\n",
       "      <td>0.000000</td>\n",
       "      <td>0.000000</td>\n",
       "      <td>0.0</td>\n",
       "      <td>0.0</td>\n",
       "      <td>0.0</td>\n",
       "      <td>0.0</td>\n",
       "      <td>0.0</td>\n",
       "    </tr>\n",
       "  </tbody>\n",
       "</table>\n",
       "</div>"
      ],
      "text/plain": [
       "                      count      mean       std   min  25%  50%  75%    max\n",
       "DepDelay           137434.0  0.411201  9.034167 -20.0  0.0  0.0  0.0  712.0\n",
       "CarrierDelay       137434.0  0.000000  0.000000   0.0  0.0  0.0  0.0    0.0\n",
       "WeatherDelay       137434.0  0.000000  0.000000   0.0  0.0  0.0  0.0    0.0\n",
       "NASDelay           137434.0  0.000000  0.000000   0.0  0.0  0.0  0.0    0.0\n",
       "SecurityDelay      137434.0  0.000000  0.000000   0.0  0.0  0.0  0.0    0.0\n",
       "LateAircraftDelay  137434.0  0.000000  0.000000   0.0  0.0  0.0  0.0    0.0"
      ]
     },
     "execution_count": 42,
     "metadata": {},
     "output_type": "execute_result"
    }
   ],
   "source": [
    "# Flights that were cancelled\n",
    "df_cancelled[delay_types].describe().transpose()"
   ]
  },
  {
   "cell_type": "markdown",
   "metadata": {},
   "source": [
    "> **Based on the descriptions, there are not many flights with delays that were not cancelled, but there were no flights with specified delays that were cancelled. Though there were some departure delays recorded prior to cancellation in the cancelled flights, because some have negative values (meaning they left early) those may be mistakes. Let's take a closer look at the departure delays for cancelled flights.**"
   ]
  },
  {
   "cell_type": "code",
   "execution_count": 43,
   "metadata": {
    "scrolled": true
   },
   "outputs": [
    {
     "name": "stdout",
     "output_type": "stream",
     "text": [
      "There were 1123 delayed flights out of the total 137434 flights that were cancelled\n"
     ]
    }
   ],
   "source": [
    "# Number of delayed flights that were cancelled\n",
    "num_delayed = df_cancelled[df_cancelled.DepDelay!=0].shape[0]\n",
    "total_cancelled = df_cancelled.shape[0]\n",
    "print(\"There were {0} delayed flights out of the total {1} flights that were cancelled\".format(num_delayed, total_cancelled))"
   ]
  },
  {
   "cell_type": "code",
   "execution_count": 44,
   "metadata": {},
   "outputs": [
    {
     "data": {
      "image/png": "[encoded data removed]",
      "text/plain": [
       "<Figure size 432x288 with 1 Axes>"
      ]
     },
     "metadata": {
      "needs_background": "light"
     },
     "output_type": "display_data"
    }
   ],
   "source": [
    "# Separate out the delayed+cancelled flights from the total cancelled flights\n",
    "df_cancelled_delayed = df_cancelled.query('DepDelay!=0')\n",
    "df_cancelled_delayed.DepDelay.hist(bins=np.arange(-20, 700, 20));\n",
    "plt.title('Departure Delays (min) for Cancelled and Delayed Flights');"
   ]
  },
  {
   "cell_type": "code",
   "execution_count": 45,
   "metadata": {
    "scrolled": true
   },
   "outputs": [
    {
     "data": {
      "text/plain": [
       "(415, 29)"
      ]
     },
     "execution_count": 45,
     "metadata": {},
     "output_type": "execute_result"
    }
   ],
   "source": [
    "df_cancelled_delayed[df_cancelled_delayed.DepDelay<0].shape\n",
    "\n",
    "# There were 415 cancelled flights with negative departure delays (seems like a mistake)"
   ]
  },
  {
   "cell_type": "code",
   "execution_count": 46,
   "metadata": {},
   "outputs": [
    {
     "data": {
      "image/png": "[encoded data removed]",
      "text/plain": [
       "<Figure size 432x288 with 1 Axes>"
      ]
     },
     "metadata": {
      "needs_background": "light"
     },
     "output_type": "display_data"
    }
   ],
   "source": [
    "# Delayed flights that were not cancelled\n",
    "df[(df.DepDelay!=0) & (df.Cancelled==0)].DepDelay.hist(bins=np.arange(-20,700,20));\n",
    "plt.title('Departure Delays (min) for Successful Flights');"
   ]
  },
  {
   "cell_type": "code",
   "execution_count": 47,
   "metadata": {},
   "outputs": [
    {
     "data": {
      "text/plain": [
       "(3635479, 29)"
      ]
     },
     "execution_count": 47,
     "metadata": {},
     "output_type": "execute_result"
    }
   ],
   "source": [
    "df[(df.DepDelay<0) & (df.Cancelled==0)].shape\n",
    "# And 3,635,479 successful flights with negative departure delays (left early)"
   ]
  },
  {
   "cell_type": "markdown",
   "metadata": {},
   "source": [
    ">**It appears that, despite the difference in sample size, the cancelled flights that were delayed have a slightly higher percentage of longer delays (longer than 50 minutes). Otherwise, this comparison is not entirely conclusive; we may want to investigate TaxiOut time instead (ie. the time spent on the ground before take off or before cancelleation)**"
   ]
  },
  {
   "cell_type": "markdown",
   "metadata": {},
   "source": [
    "<a id=\"taxi\"></a>\n",
    "### TaxiOut Time"
   ]
  },
  {
   "cell_type": "code",
   "execution_count": 48,
   "metadata": {},
   "outputs": [
    {
     "data": {
      "text/plain": [
       "count    137434.000000\n",
       "mean          0.057635\n",
       "std           1.446899\n",
       "min           0.000000\n",
       "25%           0.000000\n",
       "50%           0.000000\n",
       "75%           0.000000\n",
       "max         206.000000\n",
       "Name: TaxiOut, dtype: float64"
      ]
     },
     "execution_count": 48,
     "metadata": {},
     "output_type": "execute_result"
    }
   ],
   "source": [
    "df_cancelled.TaxiOut.describe().transpose()"
   ]
  },
  {
   "cell_type": "code",
   "execution_count": 49,
   "metadata": {},
   "outputs": [
    {
     "data": {
      "text/plain": [
       "<matplotlib.axes._subplots.AxesSubplot at 0x245f85feb70>"
      ]
     },
     "execution_count": 49,
     "metadata": {},
     "output_type": "execute_result"
    },
    {
     "data": {
      "image/png": "[encoded data removed]",
      "text/plain": [
       "<Figure size 432x288 with 1 Axes>"
      ]
     },
     "metadata": {
      "needs_background": "light"
     },
     "output_type": "display_data"
    }
   ],
   "source": [
    "df_cancelled.TaxiOut.hist(bins=np.arange(0,20,1))"
   ]
  },
  {
   "cell_type": "markdown",
   "metadata": {},
   "source": [
    ">**Similarly with TaxiOut time, there does not seem to be a significant amount of taxi time prior to cancellation.**"
   ]
  },
  {
   "cell_type": "markdown",
   "metadata": {},
   "source": [
    "<a id=\"when\"></a>\n",
    "### When do Cancelled flights occur?\n",
    "#### By Month"
   ]
  },
  {
   "cell_type": "code",
   "execution_count": 137,
   "metadata": {
    "scrolled": false
   },
   "outputs": [
    {
     "data": {
      "image/png": "[encoded data removed]",
      "text/plain": [
       "<Figure size 720x576 with 1 Axes>"
      ]
     },
     "metadata": {
      "needs_background": "light"
     },
     "output_type": "display_data"
    }
   ],
   "source": [
    "plt.figure(figsize=(10,8))\n",
    "sb.countplot(data=df, x='Month', color=base_color);\n",
    "plt.title(\"Number of Total Flights Per Month\", fontsize=15);\n",
    "plt.ylabel(\"Count of Flights\");"
   ]
  },
  {
   "cell_type": "code",
   "execution_count": 50,
   "metadata": {
    "scrolled": false
   },
   "outputs": [
    {
     "data": {
      "image/png": "[encoded data removed]",
      "text/plain": [
       "<Figure size 720x576 with 1 Axes>"
      ]
     },
     "metadata": {
      "needs_background": "light"
     },
     "output_type": "display_data"
    }
   ],
   "source": [
    "# Cancellations by month\n",
    "plt.figure(figsize=(10,8))\n",
    "sb.countplot(data=df_cancelled, x='Month', color=base_color);\n",
    "\n",
    "tot_flights = df.Month.value_counts().sort_index().values\n",
    "can_flights = df_cancelled.Month.value_counts().sort_index().values\n",
    "locs = range(1,13)\n",
    "locslabs = zip(locs, can_flights, tot_flights)\n",
    "\n",
    "for loc, can, tot in locslabs:\n",
    "    pct = 100*can/tot\n",
    "    pct_str = '{:0.2f}%'.format(pct)\n",
    "    plt.text(loc-1, pct*1000, pct_str, ha='center', color='w')\n",
    "    \n",
    "# plt.plot();\n",
    "# plt.legend(['Percent Cancelled'], markerfirst=False, facecolor='w', scatterpoints=0);\n",
    "plt.ylabel('Number of Cancelled Flights');\n",
    "plt.xlabel('Month of Year');\n",
    "plt.title('Number of Cancelled Flights\\n and Percent of Cancelled Flights\\n per Month', fontsize=15);"
   ]
  },
  {
   "cell_type": "markdown",
   "metadata": {},
   "source": [
    ">**The most cancellations and the highest percentage of cancellations occur over the months of December, January, February, and March. This aligns with the findings above that most cancellations are related to weather or carrier. It would be interesting to see what types of cancellations occur during each month.**"
   ]
  },
  {
   "cell_type": "code",
   "execution_count": 51,
   "metadata": {},
   "outputs": [
    {
     "data": {
      "text/plain": [
       "B    54904\n",
       "A    54330\n",
       "C    28188\n",
       "D       12\n",
       "Name: CancellationCode, dtype: int64"
      ]
     },
     "execution_count": 51,
     "metadata": {},
     "output_type": "execute_result"
    }
   ],
   "source": [
    "df_cancelled.CancellationCode.value_counts()"
   ]
  },
  {
   "cell_type": "code",
   "execution_count": 143,
   "metadata": {},
   "outputs": [
    {
     "name": "stderr",
     "output_type": "stream",
     "text": [
      "C:\\Users\\v-cabad\\AppData\\Local\\Continuum\\anaconda3\\envs\\tf2\\lib\\site-packages\\ipykernel_launcher.py:5: SettingWithCopyWarning: \n",
      "A value is trying to be set on a copy of a slice from a DataFrame.\n",
      "Try using .loc[row_indexer,col_indexer] = value instead\n",
      "\n",
      "See the caveats in the documentation: http://pandas.pydata.org/pandas-docs/stable/indexing.html#indexing-view-versus-copy\n",
      "  \"\"\"\n"
     ]
    },
    {
     "data": {
      "image/png": "[encoded data removed]",
      "text/plain": [
       "<Figure size 864x216 with 4 Axes>"
      ]
     },
     "metadata": {
      "needs_background": "light"
     },
     "output_type": "display_data"
    }
   ],
   "source": [
    "# Cancellation codes by month\n",
    "df_cancelled['CancellationReason'] = df_cancelled['CancellationCode'].replace({'A': 'Carrier',\n",
    "                                                              'B': 'Weather',\n",
    "                                                               'C': 'NAS',\n",
    "                                                                 'D': 'Security'})\n",
    "                                                                 \n",
    "g = sb.FacetGrid(df_cancelled, col=\"CancellationReason\") \n",
    "g = g.map(sb.countplot, \"Month\", order=[1,2,3,4,5,6,7,8,9,10,11,12]).set_titles(\"{col_name}\")"
   ]
  },
  {
   "cell_type": "markdown",
   "metadata": {},
   "source": [
    ">**In the US, the most common delays over the winter/holiday months seems to be due to weather, followed by carrier, which is fairly consistent across all other months. NAS causes fewer cancellations, but also has slightly higher volumes during the winter months, which could also relate back to the weather sub-reason. Since there are only 12 examples of Security reasons causing cancellations those results are negligible.**"
   ]
  },
  {
   "cell_type": "markdown",
   "metadata": {},
   "source": [
    "#### By Day of Week"
   ]
  },
  {
   "cell_type": "code",
   "execution_count": 53,
   "metadata": {},
   "outputs": [
    {
     "data": {
      "text/plain": [
       "1    20513\n",
       "2    23168\n",
       "3    20202\n",
       "4    17884\n",
       "5    23962\n",
       "6    13567\n",
       "7    18138\n",
       "Name: DayOfWeek, dtype: int64"
      ]
     },
     "execution_count": 53,
     "metadata": {},
     "output_type": "execute_result"
    }
   ],
   "source": [
    "df_cancelled.DayOfWeek.value_counts().sort_index()"
   ]
  },
  {
   "cell_type": "code",
   "execution_count": 54,
   "metadata": {
    "scrolled": true
   },
   "outputs": [
    {
     "data": {
      "image/png": "[encoded data removed]",
      "text/plain": [
       "<Figure size 864x216 with 4 Axes>"
      ]
     },
     "metadata": {
      "needs_background": "light"
     },
     "output_type": "display_data"
    }
   ],
   "source": [
    "# Day of Week for Each Cancellation Code\n",
    "g = sb.FacetGrid(df_cancelled, col=\"CancellationReason\") \n",
    "g = g.map(sb.countplot, \"DayOfWeek\", order=[1,2,3,4,5,6,7]).set_titles(\"{col_name}\")"
   ]
  },
  {
   "cell_type": "code",
   "execution_count": 55,
   "metadata": {
    "scrolled": false
   },
   "outputs": [
    {
     "data": {
      "image/png": "[encoded data removed]",
      "text/plain": [
       "<Figure size 648x648 with 7 Axes>"
      ]
     },
     "metadata": {
      "needs_background": "light"
     },
     "output_type": "display_data"
    }
   ],
   "source": [
    "# Cancellation code for each Day of Week\n",
    "g = sb.FacetGrid(df_cancelled, col=\"DayOfWeek\", col_wrap=3) \n",
    "g = g.map(sb.countplot, \"CancellationReason\", order=['Carrier','Weather','NAS','Security']).set_titles(\"{col_name}\")"
   ]
  },
  {
   "cell_type": "code",
   "execution_count": 56,
   "metadata": {},
   "outputs": [
    {
     "data": {
      "text/plain": [
       "1    1033922\n",
       "2    1029159\n",
       "3    1037197\n",
       "4    1029854\n",
       "5    1032834\n",
       "6     855230\n",
       "7     974265\n",
       "Name: DayOfWeek, dtype: int64"
      ]
     },
     "execution_count": 56,
     "metadata": {},
     "output_type": "execute_result"
    }
   ],
   "source": [
    "df.DayOfWeek.value_counts().sort_index()"
   ]
  },
  {
   "cell_type": "markdown",
   "metadata": {},
   "source": [
    ">**Overall, there is not much of a difference between week days in terms of cancellations or cancellation codes. Saturday and Sunday have fewer flights in general, which leads them to have fewer cancellations relative to week days.**"
   ]
  },
  {
   "cell_type": "markdown",
   "metadata": {},
   "source": [
    "#### By Hour of Scheduled Departure"
   ]
  },
  {
   "cell_type": "code",
   "execution_count": 96,
   "metadata": {
    "scrolled": true
   },
   "outputs": [],
   "source": [
    "df['CRSDepTimeHour'] = df.CRSDepTime.apply(lambda x: x.hour)"
   ]
  },
  {
   "cell_type": "code",
   "execution_count": 106,
   "metadata": {},
   "outputs": [
    {
     "data": {
      "image/png": "[encoded data removed]",
      "text/plain": [
       "<Figure size 864x576 with 1 Axes>"
      ]
     },
     "metadata": {
      "needs_background": "light"
     },
     "output_type": "display_data"
    }
   ],
   "source": [
    "plt.figure(figsize=(12,8))\n",
    "\n",
    "n_points_can = df[df.Cancelled==1].CRSDepTimeHour.value_counts().sort_index().values\n",
    "n_cancels = df[df.Cancelled==1].shape[0]\n",
    "pct_can = n_points_can / n_cancels*100\n",
    "\n",
    "n_points = df[df.Cancelled==0].CRSDepTimeHour.value_counts().sort_index().values\n",
    "n_nocan = df[df.Cancelled==0].shape[0]\n",
    "pct_nocan = n_points / n_nocan*100\n",
    "locs = range(24)\n",
    "\n",
    "plt.bar(x=locs, height=pct_can, label='Cancelled', alpha=0.5);\n",
    "plt.bar(x=locs, height=pct_nocan, label='Not Cancelled', alpha=0.5);\n",
    "plt.legend();\n",
    "\n",
    "plt.title('Percent Cancelled and Not Cancelled Flights\\nby Hour of Scheduled Departure', fontsize=15);\n",
    "plt.ylabel('Percent of Flights', color='k');  # we already handled the x-label with ax1\n"
   ]
  },
  {
   "cell_type": "markdown",
   "metadata": {},
   "source": [
    ">**Most flights occur between 5am and 8pm, with a slightly higher percentage of cancellations occurring during the evening hours of 2pm to 8pm. This cannot truly be connected back to weather or carrier cancellations, but may have something to do with a decrease in visibility as the sun begins to go down after noon.**"
   ]
  },
  {
   "cell_type": "markdown",
   "metadata": {},
   "source": [
    "<a id=\"orgdest\"></a>\n",
    "### Cancellations by Origin/Destination Combos"
   ]
  },
  {
   "cell_type": "code",
   "execution_count": 57,
   "metadata": {
    "collapsed": true
   },
   "outputs": [
    {
     "data": {
      "text/html": [
       "<div>\n",
       "<style scoped>\n",
       "    .dataframe tbody tr th:only-of-type {\n",
       "        vertical-align: middle;\n",
       "    }\n",
       "\n",
       "    .dataframe tbody tr th {\n",
       "        vertical-align: top;\n",
       "    }\n",
       "\n",
       "    .dataframe thead th {\n",
       "        text-align: right;\n",
       "    }\n",
       "</style>\n",
       "<table border=\"1\" class=\"dataframe\">\n",
       "  <thead>\n",
       "    <tr style=\"text-align: right;\">\n",
       "      <th></th>\n",
       "      <th>Org_Dest</th>\n",
       "      <th>Origin</th>\n",
       "      <th>Dest</th>\n",
       "    </tr>\n",
       "  </thead>\n",
       "  <tbody>\n",
       "    <tr>\n",
       "      <th>0</th>\n",
       "      <td>IAD_TPA</td>\n",
       "      <td>IAD</td>\n",
       "      <td>TPA</td>\n",
       "    </tr>\n",
       "    <tr>\n",
       "      <th>1</th>\n",
       "      <td>IAD_TPA</td>\n",
       "      <td>IAD</td>\n",
       "      <td>TPA</td>\n",
       "    </tr>\n",
       "    <tr>\n",
       "      <th>2</th>\n",
       "      <td>IND_BWI</td>\n",
       "      <td>IND</td>\n",
       "      <td>BWI</td>\n",
       "    </tr>\n",
       "    <tr>\n",
       "      <th>3</th>\n",
       "      <td>IND_BWI</td>\n",
       "      <td>IND</td>\n",
       "      <td>BWI</td>\n",
       "    </tr>\n",
       "    <tr>\n",
       "      <th>4</th>\n",
       "      <td>IND_BWI</td>\n",
       "      <td>IND</td>\n",
       "      <td>BWI</td>\n",
       "    </tr>\n",
       "    <tr>\n",
       "      <th>5</th>\n",
       "      <td>IND_JAX</td>\n",
       "      <td>IND</td>\n",
       "      <td>JAX</td>\n",
       "    </tr>\n",
       "    <tr>\n",
       "      <th>6</th>\n",
       "      <td>IND_LAS</td>\n",
       "      <td>IND</td>\n",
       "      <td>LAS</td>\n",
       "    </tr>\n",
       "    <tr>\n",
       "      <th>7</th>\n",
       "      <td>IND_LAS</td>\n",
       "      <td>IND</td>\n",
       "      <td>LAS</td>\n",
       "    </tr>\n",
       "    <tr>\n",
       "      <th>8</th>\n",
       "      <td>IND_MCI</td>\n",
       "      <td>IND</td>\n",
       "      <td>MCI</td>\n",
       "    </tr>\n",
       "    <tr>\n",
       "      <th>9</th>\n",
       "      <td>IND_MCI</td>\n",
       "      <td>IND</td>\n",
       "      <td>MCI</td>\n",
       "    </tr>\n",
       "    <tr>\n",
       "      <th>10</th>\n",
       "      <td>IND_MCO</td>\n",
       "      <td>IND</td>\n",
       "      <td>MCO</td>\n",
       "    </tr>\n",
       "    <tr>\n",
       "      <th>11</th>\n",
       "      <td>IND_MCO</td>\n",
       "      <td>IND</td>\n",
       "      <td>MCO</td>\n",
       "    </tr>\n",
       "    <tr>\n",
       "      <th>12</th>\n",
       "      <td>IND_MDW</td>\n",
       "      <td>IND</td>\n",
       "      <td>MDW</td>\n",
       "    </tr>\n",
       "    <tr>\n",
       "      <th>13</th>\n",
       "      <td>IND_MDW</td>\n",
       "      <td>IND</td>\n",
       "      <td>MDW</td>\n",
       "    </tr>\n",
       "    <tr>\n",
       "      <th>14</th>\n",
       "      <td>IND_MDW</td>\n",
       "      <td>IND</td>\n",
       "      <td>MDW</td>\n",
       "    </tr>\n",
       "    <tr>\n",
       "      <th>15</th>\n",
       "      <td>IND_MDW</td>\n",
       "      <td>IND</td>\n",
       "      <td>MDW</td>\n",
       "    </tr>\n",
       "    <tr>\n",
       "      <th>16</th>\n",
       "      <td>IND_PHX</td>\n",
       "      <td>IND</td>\n",
       "      <td>PHX</td>\n",
       "    </tr>\n",
       "    <tr>\n",
       "      <th>17</th>\n",
       "      <td>IND_PHX</td>\n",
       "      <td>IND</td>\n",
       "      <td>PHX</td>\n",
       "    </tr>\n",
       "    <tr>\n",
       "      <th>18</th>\n",
       "      <td>IND_TPA</td>\n",
       "      <td>IND</td>\n",
       "      <td>TPA</td>\n",
       "    </tr>\n",
       "    <tr>\n",
       "      <th>19</th>\n",
       "      <td>ISP_BWI</td>\n",
       "      <td>ISP</td>\n",
       "      <td>BWI</td>\n",
       "    </tr>\n",
       "    <tr>\n",
       "      <th>20</th>\n",
       "      <td>ISP_BWI</td>\n",
       "      <td>ISP</td>\n",
       "      <td>BWI</td>\n",
       "    </tr>\n",
       "    <tr>\n",
       "      <th>21</th>\n",
       "      <td>ISP_BWI</td>\n",
       "      <td>ISP</td>\n",
       "      <td>BWI</td>\n",
       "    </tr>\n",
       "    <tr>\n",
       "      <th>22</th>\n",
       "      <td>ISP_BWI</td>\n",
       "      <td>ISP</td>\n",
       "      <td>BWI</td>\n",
       "    </tr>\n",
       "    <tr>\n",
       "      <th>23</th>\n",
       "      <td>ISP_BWI</td>\n",
       "      <td>ISP</td>\n",
       "      <td>BWI</td>\n",
       "    </tr>\n",
       "    <tr>\n",
       "      <th>24</th>\n",
       "      <td>ISP_BWI</td>\n",
       "      <td>ISP</td>\n",
       "      <td>BWI</td>\n",
       "    </tr>\n",
       "    <tr>\n",
       "      <th>25</th>\n",
       "      <td>ISP_BWI</td>\n",
       "      <td>ISP</td>\n",
       "      <td>BWI</td>\n",
       "    </tr>\n",
       "    <tr>\n",
       "      <th>26</th>\n",
       "      <td>ISP_FLL</td>\n",
       "      <td>ISP</td>\n",
       "      <td>FLL</td>\n",
       "    </tr>\n",
       "    <tr>\n",
       "      <th>27</th>\n",
       "      <td>ISP_FLL</td>\n",
       "      <td>ISP</td>\n",
       "      <td>FLL</td>\n",
       "    </tr>\n",
       "    <tr>\n",
       "      <th>28</th>\n",
       "      <td>ISP_FLL</td>\n",
       "      <td>ISP</td>\n",
       "      <td>FLL</td>\n",
       "    </tr>\n",
       "    <tr>\n",
       "      <th>29</th>\n",
       "      <td>ISP_LAS</td>\n",
       "      <td>ISP</td>\n",
       "      <td>LAS</td>\n",
       "    </tr>\n",
       "    <tr>\n",
       "      <th>...</th>\n",
       "      <td>...</td>\n",
       "      <td>...</td>\n",
       "      <td>...</td>\n",
       "    </tr>\n",
       "    <tr>\n",
       "      <th>7009698</th>\n",
       "      <td>CLT_ATL</td>\n",
       "      <td>CLT</td>\n",
       "      <td>ATL</td>\n",
       "    </tr>\n",
       "    <tr>\n",
       "      <th>7009699</th>\n",
       "      <td>IND_ATL</td>\n",
       "      <td>IND</td>\n",
       "      <td>ATL</td>\n",
       "    </tr>\n",
       "    <tr>\n",
       "      <th>7009700</th>\n",
       "      <td>ATL_SDF</td>\n",
       "      <td>ATL</td>\n",
       "      <td>SDF</td>\n",
       "    </tr>\n",
       "    <tr>\n",
       "      <th>7009701</th>\n",
       "      <td>SLC_PHX</td>\n",
       "      <td>SLC</td>\n",
       "      <td>PHX</td>\n",
       "    </tr>\n",
       "    <tr>\n",
       "      <th>7009702</th>\n",
       "      <td>MCI_ATL</td>\n",
       "      <td>MCI</td>\n",
       "      <td>ATL</td>\n",
       "    </tr>\n",
       "    <tr>\n",
       "      <th>7009703</th>\n",
       "      <td>ATL_CHS</td>\n",
       "      <td>ATL</td>\n",
       "      <td>CHS</td>\n",
       "    </tr>\n",
       "    <tr>\n",
       "      <th>7009704</th>\n",
       "      <td>IND_ATL</td>\n",
       "      <td>IND</td>\n",
       "      <td>ATL</td>\n",
       "    </tr>\n",
       "    <tr>\n",
       "      <th>7009705</th>\n",
       "      <td>ATL_PBI</td>\n",
       "      <td>ATL</td>\n",
       "      <td>PBI</td>\n",
       "    </tr>\n",
       "    <tr>\n",
       "      <th>7009706</th>\n",
       "      <td>MSY_ATL</td>\n",
       "      <td>MSY</td>\n",
       "      <td>ATL</td>\n",
       "    </tr>\n",
       "    <tr>\n",
       "      <th>7009707</th>\n",
       "      <td>ATL_BDL</td>\n",
       "      <td>ATL</td>\n",
       "      <td>BDL</td>\n",
       "    </tr>\n",
       "    <tr>\n",
       "      <th>7009708</th>\n",
       "      <td>LEX_ATL</td>\n",
       "      <td>LEX</td>\n",
       "      <td>ATL</td>\n",
       "    </tr>\n",
       "    <tr>\n",
       "      <th>7009709</th>\n",
       "      <td>HSV_ATL</td>\n",
       "      <td>HSV</td>\n",
       "      <td>ATL</td>\n",
       "    </tr>\n",
       "    <tr>\n",
       "      <th>7009710</th>\n",
       "      <td>MSP_ATL</td>\n",
       "      <td>MSP</td>\n",
       "      <td>ATL</td>\n",
       "    </tr>\n",
       "    <tr>\n",
       "      <th>7009711</th>\n",
       "      <td>MSY_ATL</td>\n",
       "      <td>MSY</td>\n",
       "      <td>ATL</td>\n",
       "    </tr>\n",
       "    <tr>\n",
       "      <th>7009712</th>\n",
       "      <td>SLC_DEN</td>\n",
       "      <td>SLC</td>\n",
       "      <td>DEN</td>\n",
       "    </tr>\n",
       "    <tr>\n",
       "      <th>7009713</th>\n",
       "      <td>LAX_CVG</td>\n",
       "      <td>LAX</td>\n",
       "      <td>CVG</td>\n",
       "    </tr>\n",
       "    <tr>\n",
       "      <th>7009714</th>\n",
       "      <td>SAV_ATL</td>\n",
       "      <td>SAV</td>\n",
       "      <td>ATL</td>\n",
       "    </tr>\n",
       "    <tr>\n",
       "      <th>7009715</th>\n",
       "      <td>ATL_MCI</td>\n",
       "      <td>ATL</td>\n",
       "      <td>MCI</td>\n",
       "    </tr>\n",
       "    <tr>\n",
       "      <th>7009716</th>\n",
       "      <td>ATL_RSW</td>\n",
       "      <td>ATL</td>\n",
       "      <td>RSW</td>\n",
       "    </tr>\n",
       "    <tr>\n",
       "      <th>7009717</th>\n",
       "      <td>RIC_ATL</td>\n",
       "      <td>RIC</td>\n",
       "      <td>ATL</td>\n",
       "    </tr>\n",
       "    <tr>\n",
       "      <th>7009718</th>\n",
       "      <td>ATL_IAH</td>\n",
       "      <td>ATL</td>\n",
       "      <td>IAH</td>\n",
       "    </tr>\n",
       "    <tr>\n",
       "      <th>7009719</th>\n",
       "      <td>JAX_ATL</td>\n",
       "      <td>JAX</td>\n",
       "      <td>ATL</td>\n",
       "    </tr>\n",
       "    <tr>\n",
       "      <th>7009720</th>\n",
       "      <td>MSY_ATL</td>\n",
       "      <td>MSY</td>\n",
       "      <td>ATL</td>\n",
       "    </tr>\n",
       "    <tr>\n",
       "      <th>7009721</th>\n",
       "      <td>GEG_SLC</td>\n",
       "      <td>GEG</td>\n",
       "      <td>SLC</td>\n",
       "    </tr>\n",
       "    <tr>\n",
       "      <th>7009722</th>\n",
       "      <td>SAV_ATL</td>\n",
       "      <td>SAV</td>\n",
       "      <td>ATL</td>\n",
       "    </tr>\n",
       "    <tr>\n",
       "      <th>7009723</th>\n",
       "      <td>ATL_IAD</td>\n",
       "      <td>ATL</td>\n",
       "      <td>IAD</td>\n",
       "    </tr>\n",
       "    <tr>\n",
       "      <th>7009724</th>\n",
       "      <td>ATL_SAT</td>\n",
       "      <td>ATL</td>\n",
       "      <td>SAT</td>\n",
       "    </tr>\n",
       "    <tr>\n",
       "      <th>7009725</th>\n",
       "      <td>PBI_ATL</td>\n",
       "      <td>PBI</td>\n",
       "      <td>ATL</td>\n",
       "    </tr>\n",
       "    <tr>\n",
       "      <th>7009726</th>\n",
       "      <td>IAD_ATL</td>\n",
       "      <td>IAD</td>\n",
       "      <td>ATL</td>\n",
       "    </tr>\n",
       "    <tr>\n",
       "      <th>7009727</th>\n",
       "      <td>SAT_ATL</td>\n",
       "      <td>SAT</td>\n",
       "      <td>ATL</td>\n",
       "    </tr>\n",
       "  </tbody>\n",
       "</table>\n",
       "<p>6992461 rows × 3 columns</p>\n",
       "</div>"
      ],
      "text/plain": [
       "        Org_Dest Origin Dest\n",
       "0        IAD_TPA    IAD  TPA\n",
       "1        IAD_TPA    IAD  TPA\n",
       "2        IND_BWI    IND  BWI\n",
       "3        IND_BWI    IND  BWI\n",
       "4        IND_BWI    IND  BWI\n",
       "5        IND_JAX    IND  JAX\n",
       "6        IND_LAS    IND  LAS\n",
       "7        IND_LAS    IND  LAS\n",
       "8        IND_MCI    IND  MCI\n",
       "9        IND_MCI    IND  MCI\n",
       "10       IND_MCO    IND  MCO\n",
       "11       IND_MCO    IND  MCO\n",
       "12       IND_MDW    IND  MDW\n",
       "13       IND_MDW    IND  MDW\n",
       "14       IND_MDW    IND  MDW\n",
       "15       IND_MDW    IND  MDW\n",
       "16       IND_PHX    IND  PHX\n",
       "17       IND_PHX    IND  PHX\n",
       "18       IND_TPA    IND  TPA\n",
       "19       ISP_BWI    ISP  BWI\n",
       "20       ISP_BWI    ISP  BWI\n",
       "21       ISP_BWI    ISP  BWI\n",
       "22       ISP_BWI    ISP  BWI\n",
       "23       ISP_BWI    ISP  BWI\n",
       "24       ISP_BWI    ISP  BWI\n",
       "25       ISP_BWI    ISP  BWI\n",
       "26       ISP_FLL    ISP  FLL\n",
       "27       ISP_FLL    ISP  FLL\n",
       "28       ISP_FLL    ISP  FLL\n",
       "29       ISP_LAS    ISP  LAS\n",
       "...          ...    ...  ...\n",
       "7009698  CLT_ATL    CLT  ATL\n",
       "7009699  IND_ATL    IND  ATL\n",
       "7009700  ATL_SDF    ATL  SDF\n",
       "7009701  SLC_PHX    SLC  PHX\n",
       "7009702  MCI_ATL    MCI  ATL\n",
       "7009703  ATL_CHS    ATL  CHS\n",
       "7009704  IND_ATL    IND  ATL\n",
       "7009705  ATL_PBI    ATL  PBI\n",
       "7009706  MSY_ATL    MSY  ATL\n",
       "7009707  ATL_BDL    ATL  BDL\n",
       "7009708  LEX_ATL    LEX  ATL\n",
       "7009709  HSV_ATL    HSV  ATL\n",
       "7009710  MSP_ATL    MSP  ATL\n",
       "7009711  MSY_ATL    MSY  ATL\n",
       "7009712  SLC_DEN    SLC  DEN\n",
       "7009713  LAX_CVG    LAX  CVG\n",
       "7009714  SAV_ATL    SAV  ATL\n",
       "7009715  ATL_MCI    ATL  MCI\n",
       "7009716  ATL_RSW    ATL  RSW\n",
       "7009717  RIC_ATL    RIC  ATL\n",
       "7009718  ATL_IAH    ATL  IAH\n",
       "7009719  JAX_ATL    JAX  ATL\n",
       "7009720  MSY_ATL    MSY  ATL\n",
       "7009721  GEG_SLC    GEG  SLC\n",
       "7009722  SAV_ATL    SAV  ATL\n",
       "7009723  ATL_IAD    ATL  IAD\n",
       "7009724  ATL_SAT    ATL  SAT\n",
       "7009725  PBI_ATL    PBI  ATL\n",
       "7009726  IAD_ATL    IAD  ATL\n",
       "7009727  SAT_ATL    SAT  ATL\n",
       "\n",
       "[6992461 rows x 3 columns]"
      ]
     },
     "execution_count": 57,
     "metadata": {},
     "output_type": "execute_result"
    }
   ],
   "source": [
    "df['Org_Dest'] = df.Origin + '_' + df.Dest\n",
    "df[['Org_Dest','Origin','Dest']]"
   ]
  },
  {
   "cell_type": "code",
   "execution_count": 58,
   "metadata": {
    "collapsed": true
   },
   "outputs": [
    {
     "name": "stderr",
     "output_type": "stream",
     "text": [
      "C:\\Users\\v-cabad\\AppData\\Local\\Continuum\\anaconda3\\envs\\tf2\\lib\\site-packages\\ipykernel_launcher.py:1: SettingWithCopyWarning: \n",
      "A value is trying to be set on a copy of a slice from a DataFrame.\n",
      "Try using .loc[row_indexer,col_indexer] = value instead\n",
      "\n",
      "See the caveats in the documentation: http://pandas.pydata.org/pandas-docs/stable/indexing.html#indexing-view-versus-copy\n",
      "  \"\"\"Entry point for launching an IPython kernel.\n"
     ]
    },
    {
     "data": {
      "text/html": [
       "<div>\n",
       "<style scoped>\n",
       "    .dataframe tbody tr th:only-of-type {\n",
       "        vertical-align: middle;\n",
       "    }\n",
       "\n",
       "    .dataframe tbody tr th {\n",
       "        vertical-align: top;\n",
       "    }\n",
       "\n",
       "    .dataframe thead th {\n",
       "        text-align: right;\n",
       "    }\n",
       "</style>\n",
       "<table border=\"1\" class=\"dataframe\">\n",
       "  <thead>\n",
       "    <tr style=\"text-align: right;\">\n",
       "      <th></th>\n",
       "      <th>Org_Dest</th>\n",
       "      <th>Origin</th>\n",
       "      <th>Dest</th>\n",
       "    </tr>\n",
       "  </thead>\n",
       "  <tbody>\n",
       "    <tr>\n",
       "      <th>178</th>\n",
       "      <td>LAS_OAK</td>\n",
       "      <td>LAS</td>\n",
       "      <td>OAK</td>\n",
       "    </tr>\n",
       "    <tr>\n",
       "      <th>373</th>\n",
       "      <td>LAX_OAK</td>\n",
       "      <td>LAX</td>\n",
       "      <td>OAK</td>\n",
       "    </tr>\n",
       "    <tr>\n",
       "      <th>399</th>\n",
       "      <td>LAX_SFO</td>\n",
       "      <td>LAX</td>\n",
       "      <td>SFO</td>\n",
       "    </tr>\n",
       "    <tr>\n",
       "      <th>401</th>\n",
       "      <td>LAX_SFO</td>\n",
       "      <td>LAX</td>\n",
       "      <td>SFO</td>\n",
       "    </tr>\n",
       "    <tr>\n",
       "      <th>415</th>\n",
       "      <td>LAX_SJC</td>\n",
       "      <td>LAX</td>\n",
       "      <td>SJC</td>\n",
       "    </tr>\n",
       "    <tr>\n",
       "      <th>676</th>\n",
       "      <td>MDW_BDL</td>\n",
       "      <td>MDW</td>\n",
       "      <td>BDL</td>\n",
       "    </tr>\n",
       "    <tr>\n",
       "      <th>686</th>\n",
       "      <td>MDW_BNA</td>\n",
       "      <td>MDW</td>\n",
       "      <td>BNA</td>\n",
       "    </tr>\n",
       "    <tr>\n",
       "      <th>727</th>\n",
       "      <td>MDW_DTW</td>\n",
       "      <td>MDW</td>\n",
       "      <td>DTW</td>\n",
       "    </tr>\n",
       "    <tr>\n",
       "      <th>881</th>\n",
       "      <td>MDW_STL</td>\n",
       "      <td>MDW</td>\n",
       "      <td>STL</td>\n",
       "    </tr>\n",
       "    <tr>\n",
       "      <th>884</th>\n",
       "      <td>MDW_STL</td>\n",
       "      <td>MDW</td>\n",
       "      <td>STL</td>\n",
       "    </tr>\n",
       "    <tr>\n",
       "      <th>974</th>\n",
       "      <td>OAK_BUR</td>\n",
       "      <td>OAK</td>\n",
       "      <td>BUR</td>\n",
       "    </tr>\n",
       "    <tr>\n",
       "      <th>977</th>\n",
       "      <td>OAK_BUR</td>\n",
       "      <td>OAK</td>\n",
       "      <td>BUR</td>\n",
       "    </tr>\n",
       "    <tr>\n",
       "      <th>1015</th>\n",
       "      <td>OAK_LAX</td>\n",
       "      <td>OAK</td>\n",
       "      <td>LAX</td>\n",
       "    </tr>\n",
       "    <tr>\n",
       "      <th>1016</th>\n",
       "      <td>OAK_LAX</td>\n",
       "      <td>OAK</td>\n",
       "      <td>LAX</td>\n",
       "    </tr>\n",
       "    <tr>\n",
       "      <th>1044</th>\n",
       "      <td>OAK_ONT</td>\n",
       "      <td>OAK</td>\n",
       "      <td>ONT</td>\n",
       "    </tr>\n",
       "    <tr>\n",
       "      <th>1074</th>\n",
       "      <td>OAK_SAN</td>\n",
       "      <td>OAK</td>\n",
       "      <td>SAN</td>\n",
       "    </tr>\n",
       "    <tr>\n",
       "      <th>1080</th>\n",
       "      <td>OAK_SAN</td>\n",
       "      <td>OAK</td>\n",
       "      <td>SAN</td>\n",
       "    </tr>\n",
       "    <tr>\n",
       "      <th>1099</th>\n",
       "      <td>OAK_SNA</td>\n",
       "      <td>OAK</td>\n",
       "      <td>SNA</td>\n",
       "    </tr>\n",
       "    <tr>\n",
       "      <th>1163</th>\n",
       "      <td>ONT_OAK</td>\n",
       "      <td>ONT</td>\n",
       "      <td>OAK</td>\n",
       "    </tr>\n",
       "    <tr>\n",
       "      <th>1400</th>\n",
       "      <td>PHX_LAS</td>\n",
       "      <td>PHX</td>\n",
       "      <td>LAS</td>\n",
       "    </tr>\n",
       "    <tr>\n",
       "      <th>1707</th>\n",
       "      <td>SAN_OAK</td>\n",
       "      <td>SAN</td>\n",
       "      <td>OAK</td>\n",
       "    </tr>\n",
       "    <tr>\n",
       "      <th>1713</th>\n",
       "      <td>SAN_OAK</td>\n",
       "      <td>SAN</td>\n",
       "      <td>OAK</td>\n",
       "    </tr>\n",
       "    <tr>\n",
       "      <th>1715</th>\n",
       "      <td>SAN_OAK</td>\n",
       "      <td>SAN</td>\n",
       "      <td>OAK</td>\n",
       "    </tr>\n",
       "    <tr>\n",
       "      <th>1730</th>\n",
       "      <td>SAN_PHX</td>\n",
       "      <td>SAN</td>\n",
       "      <td>PHX</td>\n",
       "    </tr>\n",
       "    <tr>\n",
       "      <th>1779</th>\n",
       "      <td>SAT_DAL</td>\n",
       "      <td>SAT</td>\n",
       "      <td>DAL</td>\n",
       "    </tr>\n",
       "    <tr>\n",
       "      <th>1796</th>\n",
       "      <td>SAT_HOU</td>\n",
       "      <td>SAT</td>\n",
       "      <td>HOU</td>\n",
       "    </tr>\n",
       "    <tr>\n",
       "      <th>1902</th>\n",
       "      <td>SFO_LAX</td>\n",
       "      <td>SFO</td>\n",
       "      <td>LAX</td>\n",
       "    </tr>\n",
       "    <tr>\n",
       "      <th>1903</th>\n",
       "      <td>SFO_LAX</td>\n",
       "      <td>SFO</td>\n",
       "      <td>LAX</td>\n",
       "    </tr>\n",
       "    <tr>\n",
       "      <th>1915</th>\n",
       "      <td>SJC_BUR</td>\n",
       "      <td>SJC</td>\n",
       "      <td>BUR</td>\n",
       "    </tr>\n",
       "    <tr>\n",
       "      <th>1916</th>\n",
       "      <td>SJC_BUR</td>\n",
       "      <td>SJC</td>\n",
       "      <td>BUR</td>\n",
       "    </tr>\n",
       "    <tr>\n",
       "      <th>...</th>\n",
       "      <td>...</td>\n",
       "      <td>...</td>\n",
       "      <td>...</td>\n",
       "    </tr>\n",
       "    <tr>\n",
       "      <th>7008067</th>\n",
       "      <td>ATL_EWR</td>\n",
       "      <td>ATL</td>\n",
       "      <td>EWR</td>\n",
       "    </tr>\n",
       "    <tr>\n",
       "      <th>7008240</th>\n",
       "      <td>ATL_PHL</td>\n",
       "      <td>ATL</td>\n",
       "      <td>PHL</td>\n",
       "    </tr>\n",
       "    <tr>\n",
       "      <th>7008247</th>\n",
       "      <td>PHL_ATL</td>\n",
       "      <td>PHL</td>\n",
       "      <td>ATL</td>\n",
       "    </tr>\n",
       "    <tr>\n",
       "      <th>7008351</th>\n",
       "      <td>GSO_ATL</td>\n",
       "      <td>GSO</td>\n",
       "      <td>ATL</td>\n",
       "    </tr>\n",
       "    <tr>\n",
       "      <th>7008531</th>\n",
       "      <td>BDL_ATL</td>\n",
       "      <td>BDL</td>\n",
       "      <td>ATL</td>\n",
       "    </tr>\n",
       "    <tr>\n",
       "      <th>7008561</th>\n",
       "      <td>LGA_DCA</td>\n",
       "      <td>LGA</td>\n",
       "      <td>DCA</td>\n",
       "    </tr>\n",
       "    <tr>\n",
       "      <th>7008562</th>\n",
       "      <td>DCA_LGA</td>\n",
       "      <td>DCA</td>\n",
       "      <td>LGA</td>\n",
       "    </tr>\n",
       "    <tr>\n",
       "      <th>7008584</th>\n",
       "      <td>LGA_BOS</td>\n",
       "      <td>LGA</td>\n",
       "      <td>BOS</td>\n",
       "    </tr>\n",
       "    <tr>\n",
       "      <th>7008586</th>\n",
       "      <td>LGA_BOS</td>\n",
       "      <td>LGA</td>\n",
       "      <td>BOS</td>\n",
       "    </tr>\n",
       "    <tr>\n",
       "      <th>7008589</th>\n",
       "      <td>BOS_LGA</td>\n",
       "      <td>BOS</td>\n",
       "      <td>LGA</td>\n",
       "    </tr>\n",
       "    <tr>\n",
       "      <th>7008590</th>\n",
       "      <td>LGA_BOS</td>\n",
       "      <td>LGA</td>\n",
       "      <td>BOS</td>\n",
       "    </tr>\n",
       "    <tr>\n",
       "      <th>7008591</th>\n",
       "      <td>BOS_LGA</td>\n",
       "      <td>BOS</td>\n",
       "      <td>LGA</td>\n",
       "    </tr>\n",
       "    <tr>\n",
       "      <th>7008593</th>\n",
       "      <td>BOS_LGA</td>\n",
       "      <td>BOS</td>\n",
       "      <td>LGA</td>\n",
       "    </tr>\n",
       "    <tr>\n",
       "      <th>7008594</th>\n",
       "      <td>LGA_BOS</td>\n",
       "      <td>LGA</td>\n",
       "      <td>BOS</td>\n",
       "    </tr>\n",
       "    <tr>\n",
       "      <th>7008597</th>\n",
       "      <td>BOS_LGA</td>\n",
       "      <td>BOS</td>\n",
       "      <td>LGA</td>\n",
       "    </tr>\n",
       "    <tr>\n",
       "      <th>7008632</th>\n",
       "      <td>ATL_CLT</td>\n",
       "      <td>ATL</td>\n",
       "      <td>CLT</td>\n",
       "    </tr>\n",
       "    <tr>\n",
       "      <th>7008721</th>\n",
       "      <td>SAV_ATL</td>\n",
       "      <td>SAV</td>\n",
       "      <td>ATL</td>\n",
       "    </tr>\n",
       "    <tr>\n",
       "      <th>7008727</th>\n",
       "      <td>ATL_GSO</td>\n",
       "      <td>ATL</td>\n",
       "      <td>GSO</td>\n",
       "    </tr>\n",
       "    <tr>\n",
       "      <th>7008813</th>\n",
       "      <td>ATL_SAV</td>\n",
       "      <td>ATL</td>\n",
       "      <td>SAV</td>\n",
       "    </tr>\n",
       "    <tr>\n",
       "      <th>7008869</th>\n",
       "      <td>CLT_ATL</td>\n",
       "      <td>CLT</td>\n",
       "      <td>ATL</td>\n",
       "    </tr>\n",
       "    <tr>\n",
       "      <th>7008900</th>\n",
       "      <td>ATL_SAV</td>\n",
       "      <td>ATL</td>\n",
       "      <td>SAV</td>\n",
       "    </tr>\n",
       "    <tr>\n",
       "      <th>7008940</th>\n",
       "      <td>ATL_BDL</td>\n",
       "      <td>ATL</td>\n",
       "      <td>BDL</td>\n",
       "    </tr>\n",
       "    <tr>\n",
       "      <th>7009381</th>\n",
       "      <td>LAS_SLC</td>\n",
       "      <td>LAS</td>\n",
       "      <td>SLC</td>\n",
       "    </tr>\n",
       "    <tr>\n",
       "      <th>7009396</th>\n",
       "      <td>CVG_TPA</td>\n",
       "      <td>CVG</td>\n",
       "      <td>TPA</td>\n",
       "    </tr>\n",
       "    <tr>\n",
       "      <th>7009397</th>\n",
       "      <td>TPA_CVG</td>\n",
       "      <td>TPA</td>\n",
       "      <td>CVG</td>\n",
       "    </tr>\n",
       "    <tr>\n",
       "      <th>7009455</th>\n",
       "      <td>LGA_CVG</td>\n",
       "      <td>LGA</td>\n",
       "      <td>CVG</td>\n",
       "    </tr>\n",
       "    <tr>\n",
       "      <th>7009464</th>\n",
       "      <td>CVG_LGA</td>\n",
       "      <td>CVG</td>\n",
       "      <td>LGA</td>\n",
       "    </tr>\n",
       "    <tr>\n",
       "      <th>7009564</th>\n",
       "      <td>BOS_FLL</td>\n",
       "      <td>BOS</td>\n",
       "      <td>FLL</td>\n",
       "    </tr>\n",
       "    <tr>\n",
       "      <th>7009565</th>\n",
       "      <td>FLL_BOS</td>\n",
       "      <td>FLL</td>\n",
       "      <td>BOS</td>\n",
       "    </tr>\n",
       "    <tr>\n",
       "      <th>7009648</th>\n",
       "      <td>SAV_ATL</td>\n",
       "      <td>SAV</td>\n",
       "      <td>ATL</td>\n",
       "    </tr>\n",
       "  </tbody>\n",
       "</table>\n",
       "<p>137434 rows × 3 columns</p>\n",
       "</div>"
      ],
      "text/plain": [
       "        Org_Dest Origin Dest\n",
       "178      LAS_OAK    LAS  OAK\n",
       "373      LAX_OAK    LAX  OAK\n",
       "399      LAX_SFO    LAX  SFO\n",
       "401      LAX_SFO    LAX  SFO\n",
       "415      LAX_SJC    LAX  SJC\n",
       "676      MDW_BDL    MDW  BDL\n",
       "686      MDW_BNA    MDW  BNA\n",
       "727      MDW_DTW    MDW  DTW\n",
       "881      MDW_STL    MDW  STL\n",
       "884      MDW_STL    MDW  STL\n",
       "974      OAK_BUR    OAK  BUR\n",
       "977      OAK_BUR    OAK  BUR\n",
       "1015     OAK_LAX    OAK  LAX\n",
       "1016     OAK_LAX    OAK  LAX\n",
       "1044     OAK_ONT    OAK  ONT\n",
       "1074     OAK_SAN    OAK  SAN\n",
       "1080     OAK_SAN    OAK  SAN\n",
       "1099     OAK_SNA    OAK  SNA\n",
       "1163     ONT_OAK    ONT  OAK\n",
       "1400     PHX_LAS    PHX  LAS\n",
       "1707     SAN_OAK    SAN  OAK\n",
       "1713     SAN_OAK    SAN  OAK\n",
       "1715     SAN_OAK    SAN  OAK\n",
       "1730     SAN_PHX    SAN  PHX\n",
       "1779     SAT_DAL    SAT  DAL\n",
       "1796     SAT_HOU    SAT  HOU\n",
       "1902     SFO_LAX    SFO  LAX\n",
       "1903     SFO_LAX    SFO  LAX\n",
       "1915     SJC_BUR    SJC  BUR\n",
       "1916     SJC_BUR    SJC  BUR\n",
       "...          ...    ...  ...\n",
       "7008067  ATL_EWR    ATL  EWR\n",
       "7008240  ATL_PHL    ATL  PHL\n",
       "7008247  PHL_ATL    PHL  ATL\n",
       "7008351  GSO_ATL    GSO  ATL\n",
       "7008531  BDL_ATL    BDL  ATL\n",
       "7008561  LGA_DCA    LGA  DCA\n",
       "7008562  DCA_LGA    DCA  LGA\n",
       "7008584  LGA_BOS    LGA  BOS\n",
       "7008586  LGA_BOS    LGA  BOS\n",
       "7008589  BOS_LGA    BOS  LGA\n",
       "7008590  LGA_BOS    LGA  BOS\n",
       "7008591  BOS_LGA    BOS  LGA\n",
       "7008593  BOS_LGA    BOS  LGA\n",
       "7008594  LGA_BOS    LGA  BOS\n",
       "7008597  BOS_LGA    BOS  LGA\n",
       "7008632  ATL_CLT    ATL  CLT\n",
       "7008721  SAV_ATL    SAV  ATL\n",
       "7008727  ATL_GSO    ATL  GSO\n",
       "7008813  ATL_SAV    ATL  SAV\n",
       "7008869  CLT_ATL    CLT  ATL\n",
       "7008900  ATL_SAV    ATL  SAV\n",
       "7008940  ATL_BDL    ATL  BDL\n",
       "7009381  LAS_SLC    LAS  SLC\n",
       "7009396  CVG_TPA    CVG  TPA\n",
       "7009397  TPA_CVG    TPA  CVG\n",
       "7009455  LGA_CVG    LGA  CVG\n",
       "7009464  CVG_LGA    CVG  LGA\n",
       "7009564  BOS_FLL    BOS  FLL\n",
       "7009565  FLL_BOS    FLL  BOS\n",
       "7009648  SAV_ATL    SAV  ATL\n",
       "\n",
       "[137434 rows x 3 columns]"
      ]
     },
     "execution_count": 58,
     "metadata": {},
     "output_type": "execute_result"
    }
   ],
   "source": [
    "df_cancelled['Org_Dest'] = df_cancelled.Origin + '_' + df_cancelled.Dest\n",
    "df_cancelled[['Org_Dest','Origin','Dest']]"
   ]
  },
  {
   "cell_type": "code",
   "execution_count": 59,
   "metadata": {
    "collapsed": true
   },
   "outputs": [
    {
     "data": {
      "text/plain": [
       "LGA_ORD    852\n",
       "ORD_LGA    826\n",
       "BOS_LGA    822\n",
       "LGA_BOS    817\n",
       "DCA_LGA    768\n",
       "LGA_DCA    752\n",
       "HOU_DAL    507\n",
       "SFO_LAX    489\n",
       "LAX_SFO    455\n",
       "DAL_HOU    440\n",
       "LGA_ATL    435\n",
       "DCA_ORD    416\n",
       "ATL_LGA    410\n",
       "ORD_MSP    396\n",
       "ORD_DCA    392\n",
       "MSP_ORD    388\n",
       "EWR_ORD    387\n",
       "BOS_PHL    381\n",
       "ORD_CVG    380\n",
       "ORD_EWR    377\n",
       "CVG_ORD    374\n",
       "DFW_ORD    365\n",
       "PHL_BOS    363\n",
       "ORD_DFW    363\n",
       "MSN_ORD    362\n",
       "ORD_MSN    353\n",
       "BOS_ORD    346\n",
       "ORD_BOS    336\n",
       "BOS_JFK    334\n",
       "ASE_DEN    332\n",
       "JFK_BOS    329\n",
       "PHL_ORD    328\n",
       "LAS_PHX    320\n",
       "DFW_LGA    319\n",
       "DCA_BOS    316\n",
       "DEN_ASE    311\n",
       "ORD_PHL    309\n",
       "LGA_DFW    307\n",
       "ATL_ORD    291\n",
       "MKE_ORD    283\n",
       "ORD_ATL    280\n",
       "ORD_STL    275\n",
       "BOS_DCA    275\n",
       "GRB_ORD    275\n",
       "STL_ORD    272\n",
       "DSM_ORD    269\n",
       "DTW_ORD    269\n",
       "CID_ORD    267\n",
       "ORD_DSM    264\n",
       "ORD_MKE    263\n",
       "Name: Org_Dest, dtype: int64"
      ]
     },
     "execution_count": 59,
     "metadata": {},
     "output_type": "execute_result"
    }
   ],
   "source": [
    "top = df_cancelled.Org_Dest.value_counts()[0:50]\n",
    "top_org = list(set([c.split('_')[0] for c in top.index]))\n",
    "top_dest = list(set([c.split('_')[1] for c in top.index]))\n",
    "# print(top_org)\n",
    "# print(top_dest)\n",
    "top"
   ]
  },
  {
   "cell_type": "code",
   "execution_count": 60,
   "metadata": {
    "collapsed": true
   },
   "outputs": [
    {
     "data": {
      "image/png": "[encoded data removed]",
      "text/plain": [
       "<Figure size 720x720 with 2 Axes>"
      ]
     },
     "metadata": {
      "needs_background": "light"
     },
     "output_type": "display_data"
    }
   ],
   "source": [
    "# Top 10 cancelled origins\n",
    "# Top 10 cancelled destinations\n",
    "# Percent cancellations for org/dest combos\n",
    "df_orgdest = df[(df.Origin.isin(df_cancelled.Origin.value_counts()[0:10].index))&(df.Dest.isin(df_cancelled.Dest.value_counts()[0:10].index))][['Origin','Dest','Cancelled']]\n",
    "orgdest = df_orgdest.pivot_table(index='Origin', columns='Dest', values='Cancelled', fill_value=0)\n",
    "plt.figure(figsize=(10,10))\n",
    "sb.heatmap(orgdest, cmap='YlGnBu');"
   ]
  },
  {
   "cell_type": "code",
   "execution_count": 61,
   "metadata": {},
   "outputs": [
    {
     "data": {
      "image/png": "[encoded data removed]",
      "text/plain": [
       "<Figure size 432x288 with 2 Axes>"
      ]
     },
     "metadata": {
      "needs_background": "light"
     },
     "output_type": "display_data"
    }
   ],
   "source": [
    "df_orgdest = df_cancelled[(df_cancelled.Org_Dest.isin(top.index))][['Origin','Dest','Distance']]\n",
    "orgdest = df_orgdest.pivot_table(index='Origin', columns='Dest', values='Distance', fill_value=0)\n",
    "sb.heatmap(orgdest);"
   ]
  },
  {
   "cell_type": "markdown",
   "metadata": {},
   "source": [
    "#### Cancellations by Origin Airports and Trip Distance and Carrier"
   ]
  },
  {
   "cell_type": "code",
   "execution_count": 62,
   "metadata": {},
   "outputs": [
    {
     "data": {
      "image/png": "[encoded data removed]",
      "text/plain": [
       "<Figure size 432x288 with 2 Axes>"
      ]
     },
     "metadata": {
      "needs_background": "light"
     },
     "output_type": "display_data"
    }
   ],
   "source": [
    "top_org = df_cancelled.Origin.value_counts()[0:15].index\n",
    "df_sub = df_cancelled[df_cancelled.Origin.isin(top_org)].pivot_table(index='Origin',columns='UniqueCarrier',\n",
    "                                                            values='Distance', fill_value=0)\n",
    "sb.heatmap(df_sub);"
   ]
  },
  {
   "cell_type": "markdown",
   "metadata": {},
   "source": [
    ">**Overall inconclusive - there are many origin destination pairs without cancellations and the data is so sparse it's difficult to come to any conclusions about which org-dest pairs experience the worst of cancellations. It is better for now, to continue analysis based on cancellations at a particular airport**"
   ]
  },
  {
   "cell_type": "markdown",
   "metadata": {},
   "source": [
    "<a id=\"dist\"></a>\n",
    "### Cancellations by Distance"
   ]
  },
  {
   "cell_type": "code",
   "execution_count": 138,
   "metadata": {},
   "outputs": [
    {
     "data": {
      "image/png": "[encoded data removed]",
      "text/plain": [
       "<Figure size 864x576 with 1 Axes>"
      ]
     },
     "metadata": {
      "needs_background": "light"
     },
     "output_type": "display_data"
    }
   ],
   "source": [
    "plt.figure(figsize=(12,8))\n",
    "bins = np.arange(0, 4000, 100)\n",
    "plt.hist(df[df.Cancelled==1]['Distance'], bins=bins,\n",
    "         alpha=0.5, label='Cancelled', density=True);\n",
    "plt.hist(df[df.Cancelled==0]['Distance'], bins=bins,\n",
    "         alpha=0.5, label='Not Cancelled', density=True);\n",
    "plt.legend();\n",
    "plt.title(\"Normalized Distribution of Distance for Cancelled and Not Cancelled Flights\", fontsize=15);"
   ]
  },
  {
   "cell_type": "markdown",
   "metadata": {},
   "source": [
    ">**According to distributions alone, shorter flights seem to take up a higher percentage of cancelled flights than successful flights**"
   ]
  },
  {
   "cell_type": "markdown",
   "metadata": {},
   "source": [
    "<a id=\"carrier\"></a>\n",
    "### Cancellations by Unique Carrier"
   ]
  },
  {
   "cell_type": "code",
   "execution_count": 111,
   "metadata": {},
   "outputs": [
    {
     "data": {
      "text/plain": [
       "20"
      ]
     },
     "execution_count": 111,
     "metadata": {},
     "output_type": "execute_result"
    }
   ],
   "source": [
    "len(df.UniqueCarrier.value_counts().index)"
   ]
  },
  {
   "cell_type": "code",
   "execution_count": 117,
   "metadata": {},
   "outputs": [
    {
     "data": {
      "text/plain": [
       "array([ 0,  1,  2,  3,  4,  5,  6,  7,  8,  9, 10, 11, 12, 13, 14, 15, 16,\n",
       "       17, 18, 19])"
      ]
     },
     "execution_count": 117,
     "metadata": {},
     "output_type": "execute_result"
    }
   ],
   "source": [
    "np.arange(0,20,1)"
   ]
  },
  {
   "cell_type": "code",
   "execution_count": 123,
   "metadata": {
    "scrolled": false
   },
   "outputs": [
    {
     "data": {
      "image/png": "[encoded data removed]",
      "text/plain": [
       "<Figure size 864x576 with 1 Axes>"
      ]
     },
     "metadata": {
      "needs_background": "light"
     },
     "output_type": "display_data"
    }
   ],
   "source": [
    "plt.figure(figsize=(12,8))\n",
    "\n",
    "n_points_can = df[df.Cancelled==1].UniqueCarrier.value_counts().sort_index().values\n",
    "n_cancels = df[df.Cancelled==1].shape[0]\n",
    "pct_can = n_points_can / n_cancels*100\n",
    "\n",
    "n_points = df[df.Cancelled==0].UniqueCarrier.value_counts().sort_index().values\n",
    "n_nocan = df[df.Cancelled==0].shape[0]\n",
    "pct_nocan = n_points / n_nocan*100\n",
    "locs = np.arange(0,20,1)\n",
    "\n",
    "plt.bar(x=locs, height=pct_can, label='Cancelled', alpha=0.5);\n",
    "plt.bar(x=locs, height=pct_nocan, label='Not Cancelled', alpha=0.5);\n",
    "plt.legend();\n",
    "plt.xticks(locs, list(df.UniqueCarrier.value_counts().index));\n",
    "\n",
    "plt.title('Percent Cancelled and Not Cancelled Flights\\nby Unique Carrier', fontsize=15);\n",
    "plt.ylabel('Percent of Flights', color='k');  # we already handled the x-label with ax1"
   ]
  },
  {
   "cell_type": "code",
   "execution_count": 141,
   "metadata": {},
   "outputs": [
    {
     "data": {
      "image/png": "[encoded data removed]",
      "text/plain": [
       "<Figure size 864x576 with 1 Axes>"
      ]
     },
     "metadata": {
      "needs_background": "light"
     },
     "output_type": "display_data"
    }
   ],
   "source": [
    "plt.figure(figsize=(12,8))\n",
    "\n",
    "n_points_can = df[df.Cancelled==1].UniqueCarrier.value_counts().sort_index().values\n",
    "n_points = df[df.Cancelled==0].UniqueCarrier.value_counts().sort_index().values\n",
    "pct_can = n_points_can / n_points*100\n",
    "\n",
    "locs = np.arange(0,20,1)\n",
    "\n",
    "plt.bar(x=locs, height=pct_can, label='Cancelled');\n",
    "plt.xticks(locs, list(df.UniqueCarrier.value_counts().index));\n",
    "\n",
    "plt.title('Percent Cancelled Flights by Unique Carrier', fontsize=15);\n",
    "plt.ylabel('Percent of Flights', color='k'); "
   ]
  },
  {
   "cell_type": "markdown",
   "metadata": {},
   "source": [
    "> **Some carriers have a higher percentage of cancellations than others: ``WN, AA, 9E, YV, OH, B6, HA, AQ``. These may be interesting to examine closer and see if they correlate with the cancellation code, time, distance, or departing airports which also exhibited more cancellations relatively.**"
   ]
  },
  {
   "cell_type": "code",
   "execution_count": 145,
   "metadata": {},
   "outputs": [
    {
     "data": {
      "image/png": "[encoded data removed]",
      "text/plain": [
       "<Figure size 864x576 with 1 Axes>"
      ]
     },
     "metadata": {
      "needs_background": "light"
     },
     "output_type": "display_data"
    }
   ],
   "source": [
    "# Cancellations by Carriers and codes \n",
    "base_color = sb.color_palette()[0]\n",
    "\n",
    "top = (df_cancelled.UniqueCarrier.value_counts().index)\n",
    "plt.figure(figsize=(12,8))\n",
    "ax = sb.countplot(data = df_cancelled, x='UniqueCarrier', \n",
    "             hue = 'CancellationReason');\n",
    "plt.title('Cancellations by Carrier\\nBy Cancellation Code', fontsize=15);"
   ]
  },
  {
   "cell_type": "code",
   "execution_count": 146,
   "metadata": {},
   "outputs": [
    {
     "data": {
      "text/plain": [
       "Index(['Year', 'Month', 'DayofMonth', 'DayOfWeek', 'DepTime', 'CRSDepTime',\n",
       "       'ArrTime', 'CRSArrTime', 'UniqueCarrier', 'FlightNum', 'TailNum',\n",
       "       'ActualElapsedTime', 'CRSElapsedTime', 'AirTime', 'ArrDelay',\n",
       "       'DepDelay', 'Origin', 'Dest', 'Distance', 'TaxiIn', 'TaxiOut',\n",
       "       'Cancelled', 'CancellationCode', 'Diverted', 'CarrierDelay',\n",
       "       'WeatherDelay', 'NASDelay', 'SecurityDelay', 'LateAircraftDelay',\n",
       "       'Org_Dest', 'CRSDepTimeHour'],\n",
       "      dtype='object')"
      ]
     },
     "execution_count": 146,
     "metadata": {},
     "output_type": "execute_result"
    }
   ],
   "source": [
    "df.columns"
   ]
  },
  {
   "cell_type": "code",
   "execution_count": 154,
   "metadata": {
    "scrolled": true
   },
   "outputs": [
    {
     "data": {
      "text/plain": [
       "UniqueCarrier\n",
       "9E    {DTW, LGA, ORD, DFW, EWR, BOS, ATL, DEN, IAD, ...\n",
       "AA    {JFK, LGA, DTW, ORD, DFW, LAX, EWR, BOS, LAS, ...\n",
       "AQ                                                {LAS}\n",
       "AS        {ORD, DFW, LAX, EWR, BOS, LAS, DEN, DCA, SFO}\n",
       "B6        {JFK, LGA, ORD, EWR, BOS, LAS, DEN, IAD, SFO}\n",
       "CO    {DTW, LGA, JFK, ORD, EWR, LAX, DFW, BOS, LAS, ...\n",
       "DL    {JFK, LGA, DTW, ORD, EWR, LAX, DFW, BOS, LAS, ...\n",
       "EV    {DTW, LGA, JFK, ORD, DFW, EWR, BOS, ATL, IAD, ...\n",
       "F9    {DTW, LGA, DFW, LAX, LAS, ATL, DEN, IAH, DCA, ...\n",
       "FL    {DTW, LGA, DFW, EWR, LAX, BOS, LAS, ATL, DEN, ...\n",
       "HA                                      {LAX, SFO, LAS}\n",
       "MQ    {JFK, DTW, LGA, ORD, DFW, LAX, EWR, BOS, LAS, ...\n",
       "NW    {DTW, LGA, JFK, ORD, EWR, LAX, DFW, BOS, LAS, ...\n",
       "OH    {JFK, LGA, DTW, ORD, EWR, DFW, BOS, ATL, DEN, ...\n",
       "OO    {DTW, ORD, EWR, DFW, LAX, LAS, ATL, DEN, IAH, ...\n",
       "UA    {JFK, LGA, DTW, ORD, EWR, LAX, DFW, BOS, LAS, ...\n",
       "US    {DTW, JFK, LGA, ORD, DFW, EWR, LAX, BOS, LAS, ...\n",
       "WN                       {DTW, LAX, LAS, DEN, IAD, SFO}\n",
       "XE    {DTW, LGA, ORD, EWR, LAX, DFW, BOS, LAS, ATL, ...\n",
       "YV    {DTW, JFK, LGA, ORD, EWR, LAX, DFW, BOS, LAS, ...\n",
       "Name: Origin, dtype: object"
      ]
     },
     "execution_count": 154,
     "metadata": {},
     "output_type": "execute_result"
    }
   ],
   "source": [
    "# top 15 origin airports and carriers used\n",
    "df[df.Origin.isin(top_org)].groupby(['UniqueCarrier'])['Origin'].apply(set)"
   ]
  },
  {
   "cell_type": "markdown",
   "metadata": {},
   "source": [
    ">**Not every carrier flies to every airport - this could help narrow down where the most cancellations occur by cross-referencing airport and carrier**"
   ]
  },
  {
   "cell_type": "code",
   "execution_count": 157,
   "metadata": {
    "collapsed": true
   },
   "outputs": [
    {
     "data": {
      "text/html": [
       "<div>\n",
       "<style scoped>\n",
       "    .dataframe tbody tr th:only-of-type {\n",
       "        vertical-align: middle;\n",
       "    }\n",
       "\n",
       "    .dataframe tbody tr th {\n",
       "        vertical-align: top;\n",
       "    }\n",
       "\n",
       "    .dataframe thead th {\n",
       "        text-align: right;\n",
       "    }\n",
       "</style>\n",
       "<table border=\"1\" class=\"dataframe\">\n",
       "  <thead>\n",
       "    <tr style=\"text-align: right;\">\n",
       "      <th></th>\n",
       "      <th>UniqueCarrier</th>\n",
       "      <th>Origin</th>\n",
       "      <th>Cancelled</th>\n",
       "    </tr>\n",
       "  </thead>\n",
       "  <tbody>\n",
       "    <tr>\n",
       "      <th>0</th>\n",
       "      <td>WN</td>\n",
       "      <td>IAD</td>\n",
       "      <td>0</td>\n",
       "    </tr>\n",
       "    <tr>\n",
       "      <th>1</th>\n",
       "      <td>WN</td>\n",
       "      <td>IAD</td>\n",
       "      <td>0</td>\n",
       "    </tr>\n",
       "    <tr>\n",
       "      <th>79</th>\n",
       "      <td>WN</td>\n",
       "      <td>LAS</td>\n",
       "      <td>0</td>\n",
       "    </tr>\n",
       "    <tr>\n",
       "      <th>80</th>\n",
       "      <td>WN</td>\n",
       "      <td>LAS</td>\n",
       "      <td>0</td>\n",
       "    </tr>\n",
       "    <tr>\n",
       "      <th>81</th>\n",
       "      <td>WN</td>\n",
       "      <td>LAS</td>\n",
       "      <td>0</td>\n",
       "    </tr>\n",
       "    <tr>\n",
       "      <th>82</th>\n",
       "      <td>WN</td>\n",
       "      <td>LAS</td>\n",
       "      <td>0</td>\n",
       "    </tr>\n",
       "    <tr>\n",
       "      <th>83</th>\n",
       "      <td>WN</td>\n",
       "      <td>LAS</td>\n",
       "      <td>0</td>\n",
       "    </tr>\n",
       "    <tr>\n",
       "      <th>84</th>\n",
       "      <td>WN</td>\n",
       "      <td>LAS</td>\n",
       "      <td>0</td>\n",
       "    </tr>\n",
       "    <tr>\n",
       "      <th>85</th>\n",
       "      <td>WN</td>\n",
       "      <td>LAS</td>\n",
       "      <td>0</td>\n",
       "    </tr>\n",
       "    <tr>\n",
       "      <th>86</th>\n",
       "      <td>WN</td>\n",
       "      <td>LAS</td>\n",
       "      <td>0</td>\n",
       "    </tr>\n",
       "    <tr>\n",
       "      <th>87</th>\n",
       "      <td>WN</td>\n",
       "      <td>LAS</td>\n",
       "      <td>0</td>\n",
       "    </tr>\n",
       "    <tr>\n",
       "      <th>88</th>\n",
       "      <td>WN</td>\n",
       "      <td>LAS</td>\n",
       "      <td>0</td>\n",
       "    </tr>\n",
       "    <tr>\n",
       "      <th>89</th>\n",
       "      <td>WN</td>\n",
       "      <td>LAS</td>\n",
       "      <td>0</td>\n",
       "    </tr>\n",
       "    <tr>\n",
       "      <th>90</th>\n",
       "      <td>WN</td>\n",
       "      <td>LAS</td>\n",
       "      <td>0</td>\n",
       "    </tr>\n",
       "    <tr>\n",
       "      <th>91</th>\n",
       "      <td>WN</td>\n",
       "      <td>LAS</td>\n",
       "      <td>0</td>\n",
       "    </tr>\n",
       "    <tr>\n",
       "      <th>92</th>\n",
       "      <td>WN</td>\n",
       "      <td>LAS</td>\n",
       "      <td>0</td>\n",
       "    </tr>\n",
       "    <tr>\n",
       "      <th>93</th>\n",
       "      <td>WN</td>\n",
       "      <td>LAS</td>\n",
       "      <td>0</td>\n",
       "    </tr>\n",
       "    <tr>\n",
       "      <th>94</th>\n",
       "      <td>WN</td>\n",
       "      <td>LAS</td>\n",
       "      <td>0</td>\n",
       "    </tr>\n",
       "    <tr>\n",
       "      <th>95</th>\n",
       "      <td>WN</td>\n",
       "      <td>LAS</td>\n",
       "      <td>0</td>\n",
       "    </tr>\n",
       "    <tr>\n",
       "      <th>96</th>\n",
       "      <td>WN</td>\n",
       "      <td>LAS</td>\n",
       "      <td>0</td>\n",
       "    </tr>\n",
       "    <tr>\n",
       "      <th>97</th>\n",
       "      <td>WN</td>\n",
       "      <td>LAS</td>\n",
       "      <td>0</td>\n",
       "    </tr>\n",
       "    <tr>\n",
       "      <th>98</th>\n",
       "      <td>WN</td>\n",
       "      <td>LAS</td>\n",
       "      <td>0</td>\n",
       "    </tr>\n",
       "    <tr>\n",
       "      <th>99</th>\n",
       "      <td>WN</td>\n",
       "      <td>LAS</td>\n",
       "      <td>0</td>\n",
       "    </tr>\n",
       "    <tr>\n",
       "      <th>100</th>\n",
       "      <td>WN</td>\n",
       "      <td>LAS</td>\n",
       "      <td>0</td>\n",
       "    </tr>\n",
       "    <tr>\n",
       "      <th>101</th>\n",
       "      <td>WN</td>\n",
       "      <td>LAS</td>\n",
       "      <td>0</td>\n",
       "    </tr>\n",
       "    <tr>\n",
       "      <th>102</th>\n",
       "      <td>WN</td>\n",
       "      <td>LAS</td>\n",
       "      <td>0</td>\n",
       "    </tr>\n",
       "    <tr>\n",
       "      <th>103</th>\n",
       "      <td>WN</td>\n",
       "      <td>LAS</td>\n",
       "      <td>0</td>\n",
       "    </tr>\n",
       "    <tr>\n",
       "      <th>104</th>\n",
       "      <td>WN</td>\n",
       "      <td>LAS</td>\n",
       "      <td>0</td>\n",
       "    </tr>\n",
       "    <tr>\n",
       "      <th>105</th>\n",
       "      <td>WN</td>\n",
       "      <td>LAS</td>\n",
       "      <td>0</td>\n",
       "    </tr>\n",
       "    <tr>\n",
       "      <th>106</th>\n",
       "      <td>WN</td>\n",
       "      <td>LAS</td>\n",
       "      <td>0</td>\n",
       "    </tr>\n",
       "    <tr>\n",
       "      <th>...</th>\n",
       "      <td>...</td>\n",
       "      <td>...</td>\n",
       "      <td>...</td>\n",
       "    </tr>\n",
       "    <tr>\n",
       "      <th>7009668</th>\n",
       "      <td>DL</td>\n",
       "      <td>ATL</td>\n",
       "      <td>0</td>\n",
       "    </tr>\n",
       "    <tr>\n",
       "      <th>7009672</th>\n",
       "      <td>DL</td>\n",
       "      <td>ATL</td>\n",
       "      <td>0</td>\n",
       "    </tr>\n",
       "    <tr>\n",
       "      <th>7009674</th>\n",
       "      <td>DL</td>\n",
       "      <td>ATL</td>\n",
       "      <td>0</td>\n",
       "    </tr>\n",
       "    <tr>\n",
       "      <th>7009675</th>\n",
       "      <td>DL</td>\n",
       "      <td>ATL</td>\n",
       "      <td>0</td>\n",
       "    </tr>\n",
       "    <tr>\n",
       "      <th>7009676</th>\n",
       "      <td>DL</td>\n",
       "      <td>DTW</td>\n",
       "      <td>0</td>\n",
       "    </tr>\n",
       "    <tr>\n",
       "      <th>7009677</th>\n",
       "      <td>DL</td>\n",
       "      <td>ATL</td>\n",
       "      <td>0</td>\n",
       "    </tr>\n",
       "    <tr>\n",
       "      <th>7009679</th>\n",
       "      <td>DL</td>\n",
       "      <td>JFK</td>\n",
       "      <td>0</td>\n",
       "    </tr>\n",
       "    <tr>\n",
       "      <th>7009680</th>\n",
       "      <td>DL</td>\n",
       "      <td>ATL</td>\n",
       "      <td>0</td>\n",
       "    </tr>\n",
       "    <tr>\n",
       "      <th>7009681</th>\n",
       "      <td>DL</td>\n",
       "      <td>ATL</td>\n",
       "      <td>0</td>\n",
       "    </tr>\n",
       "    <tr>\n",
       "      <th>7009684</th>\n",
       "      <td>DL</td>\n",
       "      <td>ATL</td>\n",
       "      <td>0</td>\n",
       "    </tr>\n",
       "    <tr>\n",
       "      <th>7009686</th>\n",
       "      <td>DL</td>\n",
       "      <td>ATL</td>\n",
       "      <td>0</td>\n",
       "    </tr>\n",
       "    <tr>\n",
       "      <th>7009688</th>\n",
       "      <td>DL</td>\n",
       "      <td>ATL</td>\n",
       "      <td>0</td>\n",
       "    </tr>\n",
       "    <tr>\n",
       "      <th>7009689</th>\n",
       "      <td>DL</td>\n",
       "      <td>SFO</td>\n",
       "      <td>0</td>\n",
       "    </tr>\n",
       "    <tr>\n",
       "      <th>7009690</th>\n",
       "      <td>DL</td>\n",
       "      <td>ATL</td>\n",
       "      <td>0</td>\n",
       "    </tr>\n",
       "    <tr>\n",
       "      <th>7009691</th>\n",
       "      <td>DL</td>\n",
       "      <td>ATL</td>\n",
       "      <td>0</td>\n",
       "    </tr>\n",
       "    <tr>\n",
       "      <th>7009693</th>\n",
       "      <td>DL</td>\n",
       "      <td>ATL</td>\n",
       "      <td>0</td>\n",
       "    </tr>\n",
       "    <tr>\n",
       "      <th>7009694</th>\n",
       "      <td>DL</td>\n",
       "      <td>ATL</td>\n",
       "      <td>0</td>\n",
       "    </tr>\n",
       "    <tr>\n",
       "      <th>7009696</th>\n",
       "      <td>DL</td>\n",
       "      <td>ATL</td>\n",
       "      <td>0</td>\n",
       "    </tr>\n",
       "    <tr>\n",
       "      <th>7009697</th>\n",
       "      <td>DL</td>\n",
       "      <td>ATL</td>\n",
       "      <td>0</td>\n",
       "    </tr>\n",
       "    <tr>\n",
       "      <th>7009700</th>\n",
       "      <td>DL</td>\n",
       "      <td>ATL</td>\n",
       "      <td>0</td>\n",
       "    </tr>\n",
       "    <tr>\n",
       "      <th>7009703</th>\n",
       "      <td>DL</td>\n",
       "      <td>ATL</td>\n",
       "      <td>0</td>\n",
       "    </tr>\n",
       "    <tr>\n",
       "      <th>7009705</th>\n",
       "      <td>DL</td>\n",
       "      <td>ATL</td>\n",
       "      <td>0</td>\n",
       "    </tr>\n",
       "    <tr>\n",
       "      <th>7009707</th>\n",
       "      <td>DL</td>\n",
       "      <td>ATL</td>\n",
       "      <td>0</td>\n",
       "    </tr>\n",
       "    <tr>\n",
       "      <th>7009713</th>\n",
       "      <td>DL</td>\n",
       "      <td>LAX</td>\n",
       "      <td>0</td>\n",
       "    </tr>\n",
       "    <tr>\n",
       "      <th>7009715</th>\n",
       "      <td>DL</td>\n",
       "      <td>ATL</td>\n",
       "      <td>0</td>\n",
       "    </tr>\n",
       "    <tr>\n",
       "      <th>7009716</th>\n",
       "      <td>DL</td>\n",
       "      <td>ATL</td>\n",
       "      <td>0</td>\n",
       "    </tr>\n",
       "    <tr>\n",
       "      <th>7009718</th>\n",
       "      <td>DL</td>\n",
       "      <td>ATL</td>\n",
       "      <td>0</td>\n",
       "    </tr>\n",
       "    <tr>\n",
       "      <th>7009723</th>\n",
       "      <td>DL</td>\n",
       "      <td>ATL</td>\n",
       "      <td>0</td>\n",
       "    </tr>\n",
       "    <tr>\n",
       "      <th>7009724</th>\n",
       "      <td>DL</td>\n",
       "      <td>ATL</td>\n",
       "      <td>0</td>\n",
       "    </tr>\n",
       "    <tr>\n",
       "      <th>7009726</th>\n",
       "      <td>DL</td>\n",
       "      <td>IAD</td>\n",
       "      <td>0</td>\n",
       "    </tr>\n",
       "  </tbody>\n",
       "</table>\n",
       "<p>2814115 rows × 3 columns</p>\n",
       "</div>"
      ],
      "text/plain": [
       "        UniqueCarrier Origin  Cancelled\n",
       "0                  WN    IAD          0\n",
       "1                  WN    IAD          0\n",
       "79                 WN    LAS          0\n",
       "80                 WN    LAS          0\n",
       "81                 WN    LAS          0\n",
       "82                 WN    LAS          0\n",
       "83                 WN    LAS          0\n",
       "84                 WN    LAS          0\n",
       "85                 WN    LAS          0\n",
       "86                 WN    LAS          0\n",
       "87                 WN    LAS          0\n",
       "88                 WN    LAS          0\n",
       "89                 WN    LAS          0\n",
       "90                 WN    LAS          0\n",
       "91                 WN    LAS          0\n",
       "92                 WN    LAS          0\n",
       "93                 WN    LAS          0\n",
       "94                 WN    LAS          0\n",
       "95                 WN    LAS          0\n",
       "96                 WN    LAS          0\n",
       "97                 WN    LAS          0\n",
       "98                 WN    LAS          0\n",
       "99                 WN    LAS          0\n",
       "100                WN    LAS          0\n",
       "101                WN    LAS          0\n",
       "102                WN    LAS          0\n",
       "103                WN    LAS          0\n",
       "104                WN    LAS          0\n",
       "105                WN    LAS          0\n",
       "106                WN    LAS          0\n",
       "...               ...    ...        ...\n",
       "7009668            DL    ATL          0\n",
       "7009672            DL    ATL          0\n",
       "7009674            DL    ATL          0\n",
       "7009675            DL    ATL          0\n",
       "7009676            DL    DTW          0\n",
       "7009677            DL    ATL          0\n",
       "7009679            DL    JFK          0\n",
       "7009680            DL    ATL          0\n",
       "7009681            DL    ATL          0\n",
       "7009684            DL    ATL          0\n",
       "7009686            DL    ATL          0\n",
       "7009688            DL    ATL          0\n",
       "7009689            DL    SFO          0\n",
       "7009690            DL    ATL          0\n",
       "7009691            DL    ATL          0\n",
       "7009693            DL    ATL          0\n",
       "7009694            DL    ATL          0\n",
       "7009696            DL    ATL          0\n",
       "7009697            DL    ATL          0\n",
       "7009700            DL    ATL          0\n",
       "7009703            DL    ATL          0\n",
       "7009705            DL    ATL          0\n",
       "7009707            DL    ATL          0\n",
       "7009713            DL    LAX          0\n",
       "7009715            DL    ATL          0\n",
       "7009716            DL    ATL          0\n",
       "7009718            DL    ATL          0\n",
       "7009723            DL    ATL          0\n",
       "7009724            DL    ATL          0\n",
       "7009726            DL    IAD          0\n",
       "\n",
       "[2814115 rows x 3 columns]"
      ]
     },
     "execution_count": 157,
     "metadata": {},
     "output_type": "execute_result"
    }
   ],
   "source": [
    "df_sub = df[df.Origin.isin(top_org)][['UniqueCarrier','Origin','Cancelled']]\n",
    "df_sub"
   ]
  },
  {
   "cell_type": "code",
   "execution_count": 161,
   "metadata": {
    "scrolled": false
   },
   "outputs": [
    {
     "data": {
      "image/png": "[encoded data removed]",
      "text/plain": [
       "<Figure size 864x576 with 2 Axes>"
      ]
     },
     "metadata": {
      "needs_background": "light"
     },
     "output_type": "display_data"
    }
   ],
   "source": [
    "# Percent Cancellations by Origin and Carrier\n",
    "plt.figure(figsize=(12,8))\n",
    "df_subpiv = df_sub.pivot_table(index='Origin', columns='UniqueCarrier', \n",
    "                               values='Cancelled', fill_value=0)\n",
    "sb.heatmap(df_subpiv, cmap='GnBu', linewidths=0.01);"
   ]
  },
  {
   "cell_type": "markdown",
   "metadata": {},
   "source": [
    ">**There is definitely some overlap between origin and carrier, such that more cancellations occur with specific combinations: LGA has more cancellations with 9E, AA, DL, EV, XE, and YV, JFK with EV, EWR with MQ, ATL with MQ, BOS with YV, XE, and EV, and ORD with EV, XE, and YV.**"
   ]
  },
  {
   "cell_type": "code",
   "execution_count": 183,
   "metadata": {
    "scrolled": false
   },
   "outputs": [
    {
     "data": {
      "image/png": "[encoded data removed]",
      "text/plain": [
       "<Figure size 864x576 with 2 Axes>"
      ]
     },
     "metadata": {
      "needs_background": "light"
     },
     "output_type": "display_data"
    }
   ],
   "source": [
    "# Cancellations due to Carrier and Carriers - Summation\n",
    "plt.figure(figsize=(12,8))\n",
    "df_sub = df_cancelled[['UniqueCarrier','CancellationCode','Cancelled']]\n",
    "df_subpiv = df_sub.pivot_table(index='CancellationCode', columns='UniqueCarrier', \n",
    "                               values='Cancelled', fill_value=0, aggfunc='sum')\n",
    "ax = sb.heatmap(df_subpiv, cmap='GnBu', linewidths=0.01);\n",
    "locs,labels = plt.yticks();\n",
    "plt.yticks(locs, ['Carrier', 'Weather','NAS','Security'], rotation=0);"
   ]
  },
  {
   "cell_type": "markdown",
   "metadata": {},
   "source": [
    "<a id='conclusions'></a>\n",
    "## Conclusions\n",
    "> After comparing cancellations to various flight aspects one by one, we can narrow down the leading factors of cancellation to a few factors, with some that overlap each other. The main contributing factors are month of the year, origin airport, carrier, and distance, with the leading causes being weather, carrier, and in part, NAS (National Aviation Service). Beginning with time of year, the most cancellations (and highest percentage of cancellations) occurred during the months of ``December, January, February, and March.`` Within those months, the majority of cancelled flights were cancelled due to weather; overall, most flights were cancelled due to weather, carrier, then NAS, with NAS also including a sub-reason related to weather. Weather cancellations during winter months seems to make sense, as snow storms in the US can be extreme enough to ground flights. Narrowing in on these higher volumes of cancelled flights, we begin to see that they are also tied to origin airports, carriers, and distance. These three other factors are also correlated with each other; each airport only supports certain carriers and certain destinations, while each carrier only goes to certain airports, which also limits the destinations to which carriers can travel. Altogether, the corresponding limits on origin-carrier-distance combinations lend themselves to an overall correlation to location and weather, which is one of the leading causes of cancellations, as well as carrier, which is another leading cause of cancellations. We can narrow down the most predictive features of cancelled flights by finding the combinations of month, origin airport, carrier, and distance (or technically also destination) where the highest percentages of cancellations fall.\n",
    "\n",
    "> Luckily, cancellations made up a very small percentage of all flights during 2008 (only about 0.02% of almost 7 million total flights), and an even smaller number actually spent time on the tarmac, so in general, you had to be very unlucky to actually step onto a flight that wouldn't successfully take off. \n",
    "\n",
    "> Because this dataset only covers flights from one year, we cannot make any assumptions about predictions or yearly trends, but we can get a good idea of where to look in future broader analyses.\n",
    "\n",
    "\n",
    "> **Tip**: Once you are satisfied with your work, you should save a copy of the report in HTML or PDF form via the **File** > **Download as** submenu. Before exporting your report, check over it to make sure that the flow of the report is complete. You should probably remove all of the \"Tip\" quotes like this one so that the presentation is as tidy as possible. Congratulations!"
   ]
  },
  {
   "cell_type": "code",
   "execution_count": 187,
   "metadata": {},
   "outputs": [],
   "source": [
    "df.to_csv('cleaned_flights.csv')"
   ]
  },
  {
   "cell_type": "code",
   "execution_count": null,
   "metadata": {},
   "outputs": [],
   "source": []
  }
 ],
 "metadata": {
  "kernelspec": {
   "display_name": "Python 3",
   "language": "python",
   "name": "python3"
  },
  "language_info": {
   "codemirror_mode": {
    "name": "ipython",
    "version": 3
   },
   "file_extension": ".py",
   "mimetype": "text/x-python",
   "name": "python",
   "nbconvert_exporter": "python",
   "pygments_lexer": "ipython3",
   "version": "3.6.8"
  }
 },
 "nbformat": 4,
 "nbformat_minor": 2
}
